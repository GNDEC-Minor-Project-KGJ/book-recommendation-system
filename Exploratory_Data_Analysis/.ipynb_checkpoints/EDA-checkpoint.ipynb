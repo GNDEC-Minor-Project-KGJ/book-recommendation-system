{
 "cells": [
  {
   "cell_type": "markdown",
   "metadata": {},
   "source": [
    "![](https://images.hellogiggles.com/uploads/2018/08/09140304/picture-of-books-about-books-photo.jpg)"
   ]
  },
  {
   "cell_type": "markdown",
   "metadata": {},
   "source": [
    "### Importing Important libraries"
   ]
  },
  {
   "cell_type": "code",
   "execution_count": 1,
   "metadata": {},
   "outputs": [],
   "source": [
    "import numpy as np\n",
    "import pandas as pd\n",
    "import matplotlib.pyplot as plt\n",
    "import seaborn as sns\n",
    "%matplotlib inline"
   ]
  },
  {
   "cell_type": "markdown",
   "metadata": {},
   "source": [
    "**Reading CSV file**"
   ]
  },
  {
   "cell_type": "code",
   "execution_count": 2,
   "metadata": {},
   "outputs": [
    {
     "name": "stderr",
     "output_type": "stream",
     "text": [
      "b'Skipping line 6452: expected 8 fields, saw 9\\nSkipping line 43667: expected 8 fields, saw 10\\nSkipping line 51751: expected 8 fields, saw 9\\n'\n",
      "b'Skipping line 92038: expected 8 fields, saw 9\\nSkipping line 104319: expected 8 fields, saw 9\\nSkipping line 121768: expected 8 fields, saw 9\\n'\n",
      "b'Skipping line 144058: expected 8 fields, saw 9\\nSkipping line 150789: expected 8 fields, saw 9\\nSkipping line 157128: expected 8 fields, saw 9\\nSkipping line 180189: expected 8 fields, saw 9\\nSkipping line 185738: expected 8 fields, saw 9\\n'\n",
      "b'Skipping line 209388: expected 8 fields, saw 9\\nSkipping line 220626: expected 8 fields, saw 9\\nSkipping line 227933: expected 8 fields, saw 11\\nSkipping line 228957: expected 8 fields, saw 10\\nSkipping line 245933: expected 8 fields, saw 9\\nSkipping line 251296: expected 8 fields, saw 9\\nSkipping line 259941: expected 8 fields, saw 9\\nSkipping line 261529: expected 8 fields, saw 9\\n'\n",
      "C:\\Users\\JasJap\\anaconda3\\lib\\site-packages\\IPython\\core\\interactiveshell.py:3146: DtypeWarning: Columns (3) have mixed types.Specify dtype option on import or set low_memory=False.\n",
      "  has_raised = await self.run_ast_nodes(code_ast.body, cell_name,\n"
     ]
    },
    {
     "name": "stdout",
     "output_type": "stream",
     "text": [
      "Dataset shape : (271360, 8)\n"
     ]
    },
    {
     "data": {
      "text/html": [
       "<div>\n",
       "<style scoped>\n",
       "    .dataframe tbody tr th:only-of-type {\n",
       "        vertical-align: middle;\n",
       "    }\n",
       "\n",
       "    .dataframe tbody tr th {\n",
       "        vertical-align: top;\n",
       "    }\n",
       "\n",
       "    .dataframe thead th {\n",
       "        text-align: right;\n",
       "    }\n",
       "</style>\n",
       "<table border=\"1\" class=\"dataframe\">\n",
       "  <thead>\n",
       "    <tr style=\"text-align: right;\">\n",
       "      <th></th>\n",
       "      <th>ISBN</th>\n",
       "      <th>Book-Title</th>\n",
       "      <th>Book-Author</th>\n",
       "      <th>Year-Of-Publication</th>\n",
       "      <th>Publisher</th>\n",
       "      <th>Image-URL-S</th>\n",
       "      <th>Image-URL-M</th>\n",
       "      <th>Image-URL-L</th>\n",
       "    </tr>\n",
       "  </thead>\n",
       "  <tbody>\n",
       "    <tr>\n",
       "      <th>0</th>\n",
       "      <td>0195153448</td>\n",
       "      <td>Classical Mythology</td>\n",
       "      <td>Mark P. O. Morford</td>\n",
       "      <td>2002</td>\n",
       "      <td>Oxford University Press</td>\n",
       "      <td>http://images.amazon.com/images/P/0195153448.0...</td>\n",
       "      <td>http://images.amazon.com/images/P/0195153448.0...</td>\n",
       "      <td>http://images.amazon.com/images/P/0195153448.0...</td>\n",
       "    </tr>\n",
       "    <tr>\n",
       "      <th>1</th>\n",
       "      <td>0002005018</td>\n",
       "      <td>Clara Callan</td>\n",
       "      <td>Richard Bruce Wright</td>\n",
       "      <td>2001</td>\n",
       "      <td>HarperFlamingo Canada</td>\n",
       "      <td>http://images.amazon.com/images/P/0002005018.0...</td>\n",
       "      <td>http://images.amazon.com/images/P/0002005018.0...</td>\n",
       "      <td>http://images.amazon.com/images/P/0002005018.0...</td>\n",
       "    </tr>\n",
       "    <tr>\n",
       "      <th>2</th>\n",
       "      <td>0060973129</td>\n",
       "      <td>Decision in Normandy</td>\n",
       "      <td>Carlo D'Este</td>\n",
       "      <td>1991</td>\n",
       "      <td>HarperPerennial</td>\n",
       "      <td>http://images.amazon.com/images/P/0060973129.0...</td>\n",
       "      <td>http://images.amazon.com/images/P/0060973129.0...</td>\n",
       "      <td>http://images.amazon.com/images/P/0060973129.0...</td>\n",
       "    </tr>\n",
       "    <tr>\n",
       "      <th>3</th>\n",
       "      <td>0374157065</td>\n",
       "      <td>Flu: The Story of the Great Influenza Pandemic...</td>\n",
       "      <td>Gina Bari Kolata</td>\n",
       "      <td>1999</td>\n",
       "      <td>Farrar Straus Giroux</td>\n",
       "      <td>http://images.amazon.com/images/P/0374157065.0...</td>\n",
       "      <td>http://images.amazon.com/images/P/0374157065.0...</td>\n",
       "      <td>http://images.amazon.com/images/P/0374157065.0...</td>\n",
       "    </tr>\n",
       "    <tr>\n",
       "      <th>4</th>\n",
       "      <td>0393045218</td>\n",
       "      <td>The Mummies of Urumchi</td>\n",
       "      <td>E. J. W. Barber</td>\n",
       "      <td>1999</td>\n",
       "      <td>W. W. Norton &amp;amp; Company</td>\n",
       "      <td>http://images.amazon.com/images/P/0393045218.0...</td>\n",
       "      <td>http://images.amazon.com/images/P/0393045218.0...</td>\n",
       "      <td>http://images.amazon.com/images/P/0393045218.0...</td>\n",
       "    </tr>\n",
       "  </tbody>\n",
       "</table>\n",
       "</div>"
      ],
      "text/plain": [
       "         ISBN                                         Book-Title  \\\n",
       "0  0195153448                                Classical Mythology   \n",
       "1  0002005018                                       Clara Callan   \n",
       "2  0060973129                               Decision in Normandy   \n",
       "3  0374157065  Flu: The Story of the Great Influenza Pandemic...   \n",
       "4  0393045218                             The Mummies of Urumchi   \n",
       "\n",
       "            Book-Author Year-Of-Publication                   Publisher  \\\n",
       "0    Mark P. O. Morford                2002     Oxford University Press   \n",
       "1  Richard Bruce Wright                2001       HarperFlamingo Canada   \n",
       "2          Carlo D'Este                1991             HarperPerennial   \n",
       "3      Gina Bari Kolata                1999        Farrar Straus Giroux   \n",
       "4       E. J. W. Barber                1999  W. W. Norton &amp; Company   \n",
       "\n",
       "                                         Image-URL-S  \\\n",
       "0  http://images.amazon.com/images/P/0195153448.0...   \n",
       "1  http://images.amazon.com/images/P/0002005018.0...   \n",
       "2  http://images.amazon.com/images/P/0060973129.0...   \n",
       "3  http://images.amazon.com/images/P/0374157065.0...   \n",
       "4  http://images.amazon.com/images/P/0393045218.0...   \n",
       "\n",
       "                                         Image-URL-M  \\\n",
       "0  http://images.amazon.com/images/P/0195153448.0...   \n",
       "1  http://images.amazon.com/images/P/0002005018.0...   \n",
       "2  http://images.amazon.com/images/P/0060973129.0...   \n",
       "3  http://images.amazon.com/images/P/0374157065.0...   \n",
       "4  http://images.amazon.com/images/P/0393045218.0...   \n",
       "\n",
       "                                         Image-URL-L  \n",
       "0  http://images.amazon.com/images/P/0195153448.0...  \n",
       "1  http://images.amazon.com/images/P/0002005018.0...  \n",
       "2  http://images.amazon.com/images/P/0060973129.0...  \n",
       "3  http://images.amazon.com/images/P/0374157065.0...  \n",
       "4  http://images.amazon.com/images/P/0393045218.0...  "
      ]
     },
     "execution_count": 2,
     "metadata": {},
     "output_type": "execute_result"
    }
   ],
   "source": [
    "#Read the data \n",
    "books=pd.read_csv(\"C:/Users/JasJap/OneDrive/Desktop/KGJ_Minor/BX-Books.csv\", sep = ';', error_bad_lines = False, encoding = 'latin-1')\n",
    "print(f\"Dataset shape : {books.shape}\")\n",
    "books.head()"
   ]
  },
  {
   "cell_type": "markdown",
   "metadata": {},
   "source": [
    "we can see that image URLs columns do not seem to be required for analysis, and hence these can be dropped off."
   ]
  },
  {
   "cell_type": "code",
   "execution_count": 3,
   "metadata": {},
   "outputs": [
    {
     "data": {
      "text/html": [
       "<div>\n",
       "<style scoped>\n",
       "    .dataframe tbody tr th:only-of-type {\n",
       "        vertical-align: middle;\n",
       "    }\n",
       "\n",
       "    .dataframe tbody tr th {\n",
       "        vertical-align: top;\n",
       "    }\n",
       "\n",
       "    .dataframe thead th {\n",
       "        text-align: right;\n",
       "    }\n",
       "</style>\n",
       "<table border=\"1\" class=\"dataframe\">\n",
       "  <thead>\n",
       "    <tr style=\"text-align: right;\">\n",
       "      <th></th>\n",
       "      <th>ISBN</th>\n",
       "      <th>Book-Title</th>\n",
       "      <th>Book-Author</th>\n",
       "      <th>Year-Of-Publication</th>\n",
       "      <th>Publisher</th>\n",
       "    </tr>\n",
       "  </thead>\n",
       "  <tbody>\n",
       "    <tr>\n",
       "      <th>0</th>\n",
       "      <td>0195153448</td>\n",
       "      <td>Classical Mythology</td>\n",
       "      <td>Mark P. O. Morford</td>\n",
       "      <td>2002</td>\n",
       "      <td>Oxford University Press</td>\n",
       "    </tr>\n",
       "    <tr>\n",
       "      <th>1</th>\n",
       "      <td>0002005018</td>\n",
       "      <td>Clara Callan</td>\n",
       "      <td>Richard Bruce Wright</td>\n",
       "      <td>2001</td>\n",
       "      <td>HarperFlamingo Canada</td>\n",
       "    </tr>\n",
       "    <tr>\n",
       "      <th>2</th>\n",
       "      <td>0060973129</td>\n",
       "      <td>Decision in Normandy</td>\n",
       "      <td>Carlo D'Este</td>\n",
       "      <td>1991</td>\n",
       "      <td>HarperPerennial</td>\n",
       "    </tr>\n",
       "    <tr>\n",
       "      <th>3</th>\n",
       "      <td>0374157065</td>\n",
       "      <td>Flu: The Story of the Great Influenza Pandemic...</td>\n",
       "      <td>Gina Bari Kolata</td>\n",
       "      <td>1999</td>\n",
       "      <td>Farrar Straus Giroux</td>\n",
       "    </tr>\n",
       "    <tr>\n",
       "      <th>4</th>\n",
       "      <td>0393045218</td>\n",
       "      <td>The Mummies of Urumchi</td>\n",
       "      <td>E. J. W. Barber</td>\n",
       "      <td>1999</td>\n",
       "      <td>W. W. Norton &amp;amp; Company</td>\n",
       "    </tr>\n",
       "  </tbody>\n",
       "</table>\n",
       "</div>"
      ],
      "text/plain": [
       "         ISBN                                         Book-Title  \\\n",
       "0  0195153448                                Classical Mythology   \n",
       "1  0002005018                                       Clara Callan   \n",
       "2  0060973129                               Decision in Normandy   \n",
       "3  0374157065  Flu: The Story of the Great Influenza Pandemic...   \n",
       "4  0393045218                             The Mummies of Urumchi   \n",
       "\n",
       "            Book-Author Year-Of-Publication                   Publisher  \n",
       "0    Mark P. O. Morford                2002     Oxford University Press  \n",
       "1  Richard Bruce Wright                2001       HarperFlamingo Canada  \n",
       "2          Carlo D'Este                1991             HarperPerennial  \n",
       "3      Gina Bari Kolata                1999        Farrar Straus Giroux  \n",
       "4       E. J. W. Barber                1999  W. W. Norton &amp; Company  "
      ]
     },
     "execution_count": 3,
     "metadata": {},
     "output_type": "execute_result"
    }
   ],
   "source": [
    "df_book=books.drop(['Image-URL-S','Image-URL-M','Image-URL-L'],axis=1)\n",
    "df_book.head()"
   ]
  },
  {
   "cell_type": "code",
   "execution_count": 4,
   "metadata": {},
   "outputs": [
    {
     "name": "stdout",
     "output_type": "stream",
     "text": [
      "<class 'pandas.core.frame.DataFrame'>\n",
      "RangeIndex: 271360 entries, 0 to 271359\n",
      "Data columns (total 5 columns):\n",
      " #   Column               Non-Null Count   Dtype \n",
      "---  ------               --------------   ----- \n",
      " 0   ISBN                 271360 non-null  object\n",
      " 1   Book-Title           271360 non-null  object\n",
      " 2   Book-Author          271359 non-null  object\n",
      " 3   Year-Of-Publication  271360 non-null  object\n",
      " 4   Publisher            271358 non-null  object\n",
      "dtypes: object(5)\n",
      "memory usage: 10.4+ MB\n"
     ]
    }
   ],
   "source": [
    "df_book.info() #check the data types for each of the columns"
   ]
  },
  {
   "cell_type": "code",
   "execution_count": 5,
   "metadata": {},
   "outputs": [
    {
     "data": {
      "text/html": [
       "<div>\n",
       "<style scoped>\n",
       "    .dataframe tbody tr th:only-of-type {\n",
       "        vertical-align: middle;\n",
       "    }\n",
       "\n",
       "    .dataframe tbody tr th {\n",
       "        vertical-align: top;\n",
       "    }\n",
       "\n",
       "    .dataframe thead th {\n",
       "        text-align: right;\n",
       "    }\n",
       "</style>\n",
       "<table border=\"1\" class=\"dataframe\">\n",
       "  <thead>\n",
       "    <tr style=\"text-align: right;\">\n",
       "      <th></th>\n",
       "      <th>ISBN</th>\n",
       "      <th>Book-Title</th>\n",
       "      <th>Book-Author</th>\n",
       "      <th>Year-Of-Publication</th>\n",
       "      <th>Publisher</th>\n",
       "    </tr>\n",
       "  </thead>\n",
       "  <tbody>\n",
       "    <tr>\n",
       "      <th>count</th>\n",
       "      <td>271360</td>\n",
       "      <td>271360</td>\n",
       "      <td>271359</td>\n",
       "      <td>271360</td>\n",
       "      <td>271358</td>\n",
       "    </tr>\n",
       "    <tr>\n",
       "      <th>unique</th>\n",
       "      <td>271360</td>\n",
       "      <td>242135</td>\n",
       "      <td>102023</td>\n",
       "      <td>202</td>\n",
       "      <td>16807</td>\n",
       "    </tr>\n",
       "    <tr>\n",
       "      <th>top</th>\n",
       "      <td>085965284X</td>\n",
       "      <td>Selected Poems</td>\n",
       "      <td>Agatha Christie</td>\n",
       "      <td>2002</td>\n",
       "      <td>Harlequin</td>\n",
       "    </tr>\n",
       "    <tr>\n",
       "      <th>freq</th>\n",
       "      <td>1</td>\n",
       "      <td>27</td>\n",
       "      <td>632</td>\n",
       "      <td>13903</td>\n",
       "      <td>7535</td>\n",
       "    </tr>\n",
       "  </tbody>\n",
       "</table>\n",
       "</div>"
      ],
      "text/plain": [
       "              ISBN      Book-Title      Book-Author  Year-Of-Publication  \\\n",
       "count       271360          271360           271359               271360   \n",
       "unique      271360          242135           102023                  202   \n",
       "top     085965284X  Selected Poems  Agatha Christie                 2002   \n",
       "freq             1              27              632                13903   \n",
       "\n",
       "        Publisher  \n",
       "count      271358  \n",
       "unique      16807  \n",
       "top     Harlequin  \n",
       "freq         7535  "
      ]
     },
     "execution_count": 5,
     "metadata": {},
     "output_type": "execute_result"
    }
   ],
   "source": [
    "df_book.describe()"
   ]
  },
  {
   "cell_type": "code",
   "execution_count": 6,
   "metadata": {},
   "outputs": [
    {
     "data": {
      "text/plain": [
       "ISBN                   0\n",
       "Book-Title             0\n",
       "Book-Author            1\n",
       "Year-Of-Publication    0\n",
       "Publisher              2\n",
       "dtype: int64"
      ]
     },
     "execution_count": 6,
     "metadata": {},
     "output_type": "execute_result"
    }
   ],
   "source": [
    "df_book.isnull().sum()"
   ]
  },
  {
   "cell_type": "markdown",
   "metadata": {},
   "source": [
    "Here one value in \"Book-Author\" and two values in \"Publisher\" are Null values. So we can eliminate or drop the corresponding row as given below:"
   ]
  },
  {
   "cell_type": "markdown",
   "metadata": {},
   "source": [
    "#### Checking for Duplicate rows"
   ]
  },
  {
   "cell_type": "code",
   "execution_count": 7,
   "metadata": {},
   "outputs": [
    {
     "name": "stdout",
     "output_type": "stream",
     "text": [
      "0\n"
     ]
    }
   ],
   "source": [
    "duplicate_book = df_book.duplicated()\n",
    "print(duplicate_book.sum())"
   ]
  },
  {
   "cell_type": "markdown",
   "metadata": {},
   "source": [
    "### Year-Of-Publication"
   ]
  },
  {
   "cell_type": "code",
   "execution_count": 8,
   "metadata": {},
   "outputs": [
    {
     "data": {
      "text/plain": [
       "array([2002, 2001, 1991, 1999, 2000, 1993, 1996, 1988, 2004, 1998, 1994,\n",
       "       2003, 1997, 1983, 1979, 1995, 1982, 1985, 1992, 1986, 1978, 1980,\n",
       "       1952, 1987, 1990, 1981, 1989, 1984, 0, 1968, 1961, 1958, 1974,\n",
       "       1976, 1971, 1977, 1975, 1965, 1941, 1970, 1962, 1973, 1972, 1960,\n",
       "       1966, 1920, 1956, 1959, 1953, 1951, 1942, 1963, 1964, 1969, 1954,\n",
       "       1950, 1967, 2005, 1957, 1940, 1937, 1955, 1946, 1936, 1930, 2011,\n",
       "       1925, 1948, 1943, 1947, 1945, 1923, 2020, 1939, 1926, 1938, 2030,\n",
       "       1911, 1904, 1949, 1932, 1928, 1929, 1927, 1931, 1914, 2050, 1934,\n",
       "       1910, 1933, 1902, 1924, 1921, 1900, 2038, 2026, 1944, 1917, 1901,\n",
       "       2010, 1908, 1906, 1935, 1806, 2021, '2000', '1995', '1999', '2004',\n",
       "       '2003', '1990', '1994', '1986', '1989', '2002', '1981', '1993',\n",
       "       '1983', '1982', '1976', '1991', '1977', '1998', '1992', '1996',\n",
       "       '0', '1997', '2001', '1974', '1968', '1987', '1984', '1988',\n",
       "       '1963', '1956', '1970', '1985', '1978', '1973', '1980', '1979',\n",
       "       '1975', '1969', '1961', '1965', '1939', '1958', '1950', '1953',\n",
       "       '1966', '1971', '1959', '1972', '1955', '1957', '1945', '1960',\n",
       "       '1967', '1932', '1924', '1964', '2012', '1911', '1927', '1948',\n",
       "       '1962', '2006', '1952', '1940', '1951', '1931', '1954', '2005',\n",
       "       '1930', '1941', '1944', 'DK Publishing Inc', '1943', '1938',\n",
       "       '1900', '1942', '1923', '1920', '1933', 'Gallimard', '1909',\n",
       "       '1946', '2008', '1378', '2030', '1936', '1947', '2011', '2020',\n",
       "       '1919', '1949', '1922', '1897', '2024', '1376', '1926', '2037'],\n",
       "      dtype=object)"
      ]
     },
     "execution_count": 8,
     "metadata": {},
     "output_type": "execute_result"
    }
   ],
   "source": [
    "df_book['Year-Of-Publication'].unique()"
   ]
  },
  {
   "cell_type": "markdown",
   "metadata": {},
   "source": [
    "There are some incorrect entries in yearOfPublication. It looks like publisher names ‘DK Publishing Inc’ and ‘Gallimard’ have been incorrectly loaded as yearOfPublication in dataset due to some errors in csv file. Also, some of the values are strings and same years have been entered as numbers at some places. We will make necessary correction for these rows and set the data type for yearOfPublication as int.\n"
   ]
  },
  {
   "cell_type": "code",
   "execution_count": 9,
   "metadata": {},
   "outputs": [
    {
     "data": {
      "text/html": [
       "<div>\n",
       "<style scoped>\n",
       "    .dataframe tbody tr th:only-of-type {\n",
       "        vertical-align: middle;\n",
       "    }\n",
       "\n",
       "    .dataframe tbody tr th {\n",
       "        vertical-align: top;\n",
       "    }\n",
       "\n",
       "    .dataframe thead th {\n",
       "        text-align: right;\n",
       "    }\n",
       "</style>\n",
       "<table border=\"1\" class=\"dataframe\">\n",
       "  <thead>\n",
       "    <tr style=\"text-align: right;\">\n",
       "      <th></th>\n",
       "      <th>ISBN</th>\n",
       "      <th>Book-Title</th>\n",
       "      <th>Book-Author</th>\n",
       "      <th>Year-Of-Publication</th>\n",
       "      <th>Publisher</th>\n",
       "    </tr>\n",
       "  </thead>\n",
       "  <tbody>\n",
       "    <tr>\n",
       "      <th>209538</th>\n",
       "      <td>078946697X</td>\n",
       "      <td>DK Readers: Creating the X-Men, How It All Beg...</td>\n",
       "      <td>2000</td>\n",
       "      <td>DK Publishing Inc</td>\n",
       "      <td>http://images.amazon.com/images/P/078946697X.0...</td>\n",
       "    </tr>\n",
       "    <tr>\n",
       "      <th>221678</th>\n",
       "      <td>0789466953</td>\n",
       "      <td>DK Readers: Creating the X-Men, How Comic Book...</td>\n",
       "      <td>2000</td>\n",
       "      <td>DK Publishing Inc</td>\n",
       "      <td>http://images.amazon.com/images/P/0789466953.0...</td>\n",
       "    </tr>\n",
       "  </tbody>\n",
       "</table>\n",
       "</div>"
      ],
      "text/plain": [
       "              ISBN                                         Book-Title  \\\n",
       "209538  078946697X  DK Readers: Creating the X-Men, How It All Beg...   \n",
       "221678  0789466953  DK Readers: Creating the X-Men, How Comic Book...   \n",
       "\n",
       "       Book-Author Year-Of-Publication  \\\n",
       "209538        2000   DK Publishing Inc   \n",
       "221678        2000   DK Publishing Inc   \n",
       "\n",
       "                                                Publisher  \n",
       "209538  http://images.amazon.com/images/P/078946697X.0...  \n",
       "221678  http://images.amazon.com/images/P/0789466953.0...  "
      ]
     },
     "execution_count": 9,
     "metadata": {},
     "output_type": "execute_result"
    }
   ],
   "source": [
    "df_book.loc[df_book['Year-Of-Publication'] == 'DK Publishing Inc', :]"
   ]
  },
  {
   "cell_type": "code",
   "execution_count": 10,
   "metadata": {},
   "outputs": [],
   "source": [
    "df_book.loc[df_book['ISBN']=='078946697X','Year-Of-Publication']=2000\n",
    "df_book.loc[df_book['ISBN']=='078946697X','Book-Author']=\"Michael Teitelbaum\"\n",
    "df_book.loc[df_book['ISBN']=='078946697X','Publisher']='DK Publishing Inc'\n",
    "df_book.loc[df_book['ISBN']=='078946697X','Book-Title']=\"DK Readers: Creating the X-Men, How It All Began (Level 4: Proficient Readers)\""
   ]
  },
  {
   "cell_type": "code",
   "execution_count": 11,
   "metadata": {},
   "outputs": [],
   "source": [
    "df_book.loc[df_book['ISBN']=='0789466953','Year-Of-Publication']=2000\n",
    "df_book.loc[df_book['ISBN']=='0789466953','Book-Author']=\"James Buckley\"\n",
    "df_book.loc[df_book['ISBN']=='0789466953','Publisher']='DK Publishing Inc'\n",
    "df_book.loc[df_book['ISBN']=='0789466953','Book-Title']=\"DK Readers: Creating the X-Men, How Comic Books Come to Life (Level 4: Proficient Readers)\""
   ]
  },
  {
   "cell_type": "code",
   "execution_count": 12,
   "metadata": {},
   "outputs": [
    {
     "data": {
      "text/html": [
       "<div>\n",
       "<style scoped>\n",
       "    .dataframe tbody tr th:only-of-type {\n",
       "        vertical-align: middle;\n",
       "    }\n",
       "\n",
       "    .dataframe tbody tr th {\n",
       "        vertical-align: top;\n",
       "    }\n",
       "\n",
       "    .dataframe thead th {\n",
       "        text-align: right;\n",
       "    }\n",
       "</style>\n",
       "<table border=\"1\" class=\"dataframe\">\n",
       "  <thead>\n",
       "    <tr style=\"text-align: right;\">\n",
       "      <th></th>\n",
       "      <th>ISBN</th>\n",
       "      <th>Book-Title</th>\n",
       "      <th>Book-Author</th>\n",
       "      <th>Year-Of-Publication</th>\n",
       "      <th>Publisher</th>\n",
       "    </tr>\n",
       "  </thead>\n",
       "  <tbody>\n",
       "    <tr>\n",
       "      <th>220731</th>\n",
       "      <td>2070426769</td>\n",
       "      <td>Peuple du ciel, suivi de 'Les Bergers\\\";Jean-M...</td>\n",
       "      <td>2003</td>\n",
       "      <td>Gallimard</td>\n",
       "      <td>http://images.amazon.com/images/P/2070426769.0...</td>\n",
       "    </tr>\n",
       "  </tbody>\n",
       "</table>\n",
       "</div>"
      ],
      "text/plain": [
       "              ISBN                                         Book-Title  \\\n",
       "220731  2070426769  Peuple du ciel, suivi de 'Les Bergers\\\";Jean-M...   \n",
       "\n",
       "       Book-Author Year-Of-Publication  \\\n",
       "220731        2003           Gallimard   \n",
       "\n",
       "                                                Publisher  \n",
       "220731  http://images.amazon.com/images/P/2070426769.0...  "
      ]
     },
     "execution_count": 12,
     "metadata": {},
     "output_type": "execute_result"
    }
   ],
   "source": [
    "df_book.loc[df_book['Year-Of-Publication'] == 'Gallimard' ,:]"
   ]
  },
  {
   "cell_type": "code",
   "execution_count": 13,
   "metadata": {},
   "outputs": [],
   "source": [
    "df_book.loc[df_book['ISBN']=='2070426769','Year-Of-Publication']=2003\n",
    "df_book.loc[df_book['ISBN']=='2070426769','Book-Author']=\"Jean-Marie Gustave Le ClÃ?Â©zio\"\n",
    "df_book.loc[df_book['ISBN']=='2070426769','Publisher']='Gallimard'\n",
    "df_book.loc[df_book['ISBN']=='2070426769','Book-Title']=\"Peuple du ciel, suivi de 'Les Bergers\""
   ]
  },
  {
   "cell_type": "code",
   "execution_count": 14,
   "metadata": {},
   "outputs": [
    {
     "name": "stdout",
     "output_type": "stream",
     "text": [
      "[0, 1376, 1378, 1806, 1897, 1900, 1901, 1902, 1904, 1906, 1908, 1909, 1910, 1911, 1914, 1917, 1919, 1920, 1921, 1922, 1923, 1924, 1925, 1926, 1927, 1928, 1929, 1930, 1931, 1932, 1933, 1934, 1935, 1936, 1937, 1938, 1939, 1940, 1941, 1942, 1943, 1944, 1945, 1946, 1947, 1948, 1949, 1950, 1951, 1952, 1953, 1954, 1955, 1956, 1957, 1958, 1959, 1960, 1961, 1962, 1963, 1964, 1965, 1966, 1967, 1968, 1969, 1970, 1971, 1972, 1973, 1974, 1975, 1976, 1977, 1978, 1979, 1980, 1981, 1982, 1983, 1984, 1985, 1986, 1987, 1988, 1989, 1990, 1991, 1992, 1993, 1994, 1995, 1996, 1997, 1998, 1999, 2000, 2001, 2002, 2003, 2004, 2005, 2006, 2008, 2010, 2011, 2012, 2020, 2021, 2024, 2026, 2030, 2037, 2038, 2050]\n"
     ]
    }
   ],
   "source": [
    "df_book['Year-Of-Publication'] = pd.to_numeric(df_book['Year-Of-Publication'],errors='coerce')\n",
    "print(sorted(df_book['Year-Of-Publication'].unique()))"
   ]
  },
  {
   "cell_type": "markdown",
   "metadata": {},
   "source": [
    "It can now be seen that yearOfPublication is of type int and it has values ranging from 0–2050. As this dataset was built in 2004, so assuming all the years after 2006 are invalid keeping a margin of two years in case dataset may have been updated. For all the invalid entries (including 0), we will convert these to NaNs, and then replace them with mean values of remaining years.\n"
   ]
  },
  {
   "cell_type": "code",
   "execution_count": 15,
   "metadata": {},
   "outputs": [],
   "source": [
    "df_book.loc[(df_book['Year-Of-Publication'] > 2006) | df_book['Year-Of-Publication']==0 ,'Year-Of-Publication'] = np.NAN\n",
    "df_book['Year-Of-Publication'].fillna(round(df_book['Year-Of-Publication'].mean()),inplace=True)\n",
    "df_book['Year-Of-Publication']=df_book['Year-Of-Publication'].astype(np.int32)"
   ]
  },
  {
   "cell_type": "code",
   "execution_count": 16,
   "metadata": {},
   "outputs": [
    {
     "data": {
      "text/plain": [
       "count    271360.000000\n",
       "mean       1993.695132\n",
       "std           8.254750\n",
       "min        1376.000000\n",
       "25%        1989.000000\n",
       "50%        1995.000000\n",
       "75%        2000.000000\n",
       "max        2050.000000\n",
       "Name: Year-Of-Publication, dtype: float64"
      ]
     },
     "execution_count": 16,
     "metadata": {},
     "output_type": "execute_result"
    }
   ],
   "source": [
    "df_book['Year-Of-Publication'].describe()"
   ]
  },
  {
   "cell_type": "markdown",
   "metadata": {},
   "source": [
    "## publisher"
   ]
  },
  {
   "cell_type": "markdown",
   "metadata": {},
   "source": [
    "Coming to ‘publisher’ column, I have handled two NaN values by replacing them with ‘other’"
   ]
  },
  {
   "cell_type": "code",
   "execution_count": 17,
   "metadata": {},
   "outputs": [
    {
     "data": {
      "text/html": [
       "<div>\n",
       "<style scoped>\n",
       "    .dataframe tbody tr th:only-of-type {\n",
       "        vertical-align: middle;\n",
       "    }\n",
       "\n",
       "    .dataframe tbody tr th {\n",
       "        vertical-align: top;\n",
       "    }\n",
       "\n",
       "    .dataframe thead th {\n",
       "        text-align: right;\n",
       "    }\n",
       "</style>\n",
       "<table border=\"1\" class=\"dataframe\">\n",
       "  <thead>\n",
       "    <tr style=\"text-align: right;\">\n",
       "      <th></th>\n",
       "      <th>ISBN</th>\n",
       "      <th>Book-Title</th>\n",
       "      <th>Book-Author</th>\n",
       "      <th>Year-Of-Publication</th>\n",
       "      <th>Publisher</th>\n",
       "    </tr>\n",
       "  </thead>\n",
       "  <tbody>\n",
       "    <tr>\n",
       "      <th>128890</th>\n",
       "      <td>193169656X</td>\n",
       "      <td>Tyrant Moon</td>\n",
       "      <td>Elaine Corvidae</td>\n",
       "      <td>2002</td>\n",
       "      <td>NaN</td>\n",
       "    </tr>\n",
       "    <tr>\n",
       "      <th>129037</th>\n",
       "      <td>1931696993</td>\n",
       "      <td>Finders Keepers</td>\n",
       "      <td>Linnea Sinclair</td>\n",
       "      <td>2001</td>\n",
       "      <td>NaN</td>\n",
       "    </tr>\n",
       "  </tbody>\n",
       "</table>\n",
       "</div>"
      ],
      "text/plain": [
       "              ISBN       Book-Title      Book-Author  Year-Of-Publication  \\\n",
       "128890  193169656X      Tyrant Moon  Elaine Corvidae                 2002   \n",
       "129037  1931696993  Finders Keepers  Linnea Sinclair                 2001   \n",
       "\n",
       "       Publisher  \n",
       "128890       NaN  \n",
       "129037       NaN  "
      ]
     },
     "execution_count": 17,
     "metadata": {},
     "output_type": "execute_result"
    }
   ],
   "source": [
    "df_book.loc[df_book['Publisher'].isnull(),:]"
   ]
  },
  {
   "cell_type": "code",
   "execution_count": 18,
   "metadata": {},
   "outputs": [],
   "source": [
    "df_book.loc[df_book['ISBN']=='193169656X', 'Publisher'] = 'other'\n",
    "df_book.loc[df_book['ISBN']=='1931696993', 'Publisher'] = 'other'"
   ]
  },
  {
   "cell_type": "markdown",
   "metadata": {},
   "source": [
    "## Users Dataset"
   ]
  },
  {
   "cell_type": "code",
   "execution_count": 19,
   "metadata": {},
   "outputs": [
    {
     "name": "stdout",
     "output_type": "stream",
     "text": [
      "Dataset shape : (278858, 3)\n"
     ]
    },
    {
     "data": {
      "text/html": [
       "<div>\n",
       "<style scoped>\n",
       "    .dataframe tbody tr th:only-of-type {\n",
       "        vertical-align: middle;\n",
       "    }\n",
       "\n",
       "    .dataframe tbody tr th {\n",
       "        vertical-align: top;\n",
       "    }\n",
       "\n",
       "    .dataframe thead th {\n",
       "        text-align: right;\n",
       "    }\n",
       "</style>\n",
       "<table border=\"1\" class=\"dataframe\">\n",
       "  <thead>\n",
       "    <tr style=\"text-align: right;\">\n",
       "      <th></th>\n",
       "      <th>User-ID</th>\n",
       "      <th>Location</th>\n",
       "      <th>Age</th>\n",
       "    </tr>\n",
       "  </thead>\n",
       "  <tbody>\n",
       "    <tr>\n",
       "      <th>0</th>\n",
       "      <td>1</td>\n",
       "      <td>nyc, new york, usa</td>\n",
       "      <td>NaN</td>\n",
       "    </tr>\n",
       "    <tr>\n",
       "      <th>1</th>\n",
       "      <td>2</td>\n",
       "      <td>stockton, california, usa</td>\n",
       "      <td>18.0</td>\n",
       "    </tr>\n",
       "    <tr>\n",
       "      <th>2</th>\n",
       "      <td>3</td>\n",
       "      <td>moscow, yukon territory, russia</td>\n",
       "      <td>NaN</td>\n",
       "    </tr>\n",
       "    <tr>\n",
       "      <th>3</th>\n",
       "      <td>4</td>\n",
       "      <td>porto, v.n.gaia, portugal</td>\n",
       "      <td>17.0</td>\n",
       "    </tr>\n",
       "    <tr>\n",
       "      <th>4</th>\n",
       "      <td>5</td>\n",
       "      <td>farnborough, hants, united kingdom</td>\n",
       "      <td>NaN</td>\n",
       "    </tr>\n",
       "  </tbody>\n",
       "</table>\n",
       "</div>"
      ],
      "text/plain": [
       "   User-ID                            Location   Age\n",
       "0        1                  nyc, new york, usa   NaN\n",
       "1        2           stockton, california, usa  18.0\n",
       "2        3     moscow, yukon territory, russia   NaN\n",
       "3        4           porto, v.n.gaia, portugal  17.0\n",
       "4        5  farnborough, hants, united kingdom   NaN"
      ]
     },
     "execution_count": 19,
     "metadata": {},
     "output_type": "execute_result"
    }
   ],
   "source": [
    "users = pd.read_csv(\"C:/Users/JasJap/OneDrive/Desktop/KGJ_Minor/BX-Users.csv\", sep = ';', error_bad_lines = False, encoding = 'latin-1')\n",
    "print(f\"Dataset shape : {users.shape}\")\n",
    "users.head()"
   ]
  },
  {
   "cell_type": "code",
   "execution_count": 20,
   "metadata": {},
   "outputs": [
    {
     "name": "stdout",
     "output_type": "stream",
     "text": [
      "<class 'pandas.core.frame.DataFrame'>\n",
      "RangeIndex: 278858 entries, 0 to 278857\n",
      "Data columns (total 3 columns):\n",
      " #   Column    Non-Null Count   Dtype  \n",
      "---  ------    --------------   -----  \n",
      " 0   User-ID   278858 non-null  int64  \n",
      " 1   Location  278858 non-null  object \n",
      " 2   Age       168096 non-null  float64\n",
      "dtypes: float64(1), int64(1), object(1)\n",
      "memory usage: 6.4+ MB\n"
     ]
    }
   ],
   "source": [
    "users.info()"
   ]
  },
  {
   "cell_type": "code",
   "execution_count": 21,
   "metadata": {},
   "outputs": [
    {
     "data": {
      "text/html": [
       "<div>\n",
       "<style scoped>\n",
       "    .dataframe tbody tr th:only-of-type {\n",
       "        vertical-align: middle;\n",
       "    }\n",
       "\n",
       "    .dataframe tbody tr th {\n",
       "        vertical-align: top;\n",
       "    }\n",
       "\n",
       "    .dataframe thead th {\n",
       "        text-align: right;\n",
       "    }\n",
       "</style>\n",
       "<table border=\"1\" class=\"dataframe\">\n",
       "  <thead>\n",
       "    <tr style=\"text-align: right;\">\n",
       "      <th></th>\n",
       "      <th>User-ID</th>\n",
       "      <th>Age</th>\n",
       "    </tr>\n",
       "  </thead>\n",
       "  <tbody>\n",
       "    <tr>\n",
       "      <th>count</th>\n",
       "      <td>278858.00000</td>\n",
       "      <td>168096.000000</td>\n",
       "    </tr>\n",
       "    <tr>\n",
       "      <th>mean</th>\n",
       "      <td>139429.50000</td>\n",
       "      <td>34.751434</td>\n",
       "    </tr>\n",
       "    <tr>\n",
       "      <th>std</th>\n",
       "      <td>80499.51502</td>\n",
       "      <td>14.428097</td>\n",
       "    </tr>\n",
       "    <tr>\n",
       "      <th>min</th>\n",
       "      <td>1.00000</td>\n",
       "      <td>0.000000</td>\n",
       "    </tr>\n",
       "    <tr>\n",
       "      <th>25%</th>\n",
       "      <td>69715.25000</td>\n",
       "      <td>24.000000</td>\n",
       "    </tr>\n",
       "    <tr>\n",
       "      <th>50%</th>\n",
       "      <td>139429.50000</td>\n",
       "      <td>32.000000</td>\n",
       "    </tr>\n",
       "    <tr>\n",
       "      <th>75%</th>\n",
       "      <td>209143.75000</td>\n",
       "      <td>44.000000</td>\n",
       "    </tr>\n",
       "    <tr>\n",
       "      <th>max</th>\n",
       "      <td>278858.00000</td>\n",
       "      <td>244.000000</td>\n",
       "    </tr>\n",
       "  </tbody>\n",
       "</table>\n",
       "</div>"
      ],
      "text/plain": [
       "            User-ID            Age\n",
       "count  278858.00000  168096.000000\n",
       "mean   139429.50000      34.751434\n",
       "std     80499.51502      14.428097\n",
       "min         1.00000       0.000000\n",
       "25%     69715.25000      24.000000\n",
       "50%    139429.50000      32.000000\n",
       "75%    209143.75000      44.000000\n",
       "max    278858.00000     244.000000"
      ]
     },
     "execution_count": 21,
     "metadata": {},
     "output_type": "execute_result"
    }
   ],
   "source": [
    "users.describe()"
   ]
  },
  {
   "cell_type": "code",
   "execution_count": 22,
   "metadata": {},
   "outputs": [
    {
     "data": {
      "text/plain": [
       "User-ID          0\n",
       "Location         0\n",
       "Age         110762\n",
       "dtype: int64"
      ]
     },
     "execution_count": 22,
     "metadata": {},
     "output_type": "execute_result"
    }
   ],
   "source": [
    "users.isnull().sum()"
   ]
  },
  {
   "cell_type": "markdown",
   "metadata": {},
   "source": [
    "Upon checking the unique values, User-ID looks correct. However, Age column has a NaN and some very high values. In my view ages below 5 and above 90 do not make much sense, and hence, these are being replaced with NaNs. All the NaNs are then replaced with mean value of Age, and its data type is set as int."
   ]
  },
  {
   "cell_type": "code",
   "execution_count": 23,
   "metadata": {},
   "outputs": [
    {
     "name": "stdout",
     "output_type": "stream",
     "text": [
      "[nan, 0.0, 1.0, 2.0, 3.0, 4.0, 5.0, 6.0, 7.0, 8.0, 9.0, 10.0, 11.0, 12.0, 13.0, 14.0, 15.0, 16.0, 17.0, 18.0, 19.0, 20.0, 21.0, 22.0, 23.0, 24.0, 25.0, 26.0, 27.0, 28.0, 29.0, 30.0, 31.0, 32.0, 33.0, 34.0, 35.0, 36.0, 37.0, 38.0, 39.0, 40.0, 41.0, 42.0, 43.0, 44.0, 45.0, 46.0, 47.0, 48.0, 49.0, 50.0, 51.0, 52.0, 53.0, 54.0, 55.0, 56.0, 57.0, 58.0, 59.0, 60.0, 61.0, 62.0, 63.0, 64.0, 65.0, 66.0, 67.0, 68.0, 69.0, 70.0, 71.0, 72.0, 73.0, 74.0, 75.0, 76.0, 77.0, 78.0, 79.0, 80.0, 81.0, 82.0, 83.0, 84.0, 85.0, 86.0, 87.0, 88.0, 89.0, 90.0, 91.0, 92.0, 93.0, 94.0, 95.0, 96.0, 97.0, 98.0, 99.0, 100.0, 101.0, 102.0, 103.0, 104.0, 105.0, 106.0, 107.0, 108.0, 109.0, 110.0, 111.0, 113.0, 114.0, 115.0, 116.0, 118.0, 119.0, 123.0, 124.0, 127.0, 128.0, 132.0, 133.0, 136.0, 137.0, 138.0, 140.0, 141.0, 143.0, 146.0, 147.0, 148.0, 151.0, 152.0, 156.0, 157.0, 159.0, 162.0, 168.0, 172.0, 175.0, 183.0, 186.0, 189.0, 199.0, 200.0, 201.0, 204.0, 207.0, 208.0, 209.0, 210.0, 212.0, 219.0, 220.0, 223.0, 226.0, 228.0, 229.0, 230.0, 231.0, 237.0, 239.0, 244.0]\n"
     ]
    }
   ],
   "source": [
    "print(sorted(users['Age'].unique()))"
   ]
  },
  {
   "cell_type": "code",
   "execution_count": 24,
   "metadata": {},
   "outputs": [],
   "source": [
    "users.loc[(users['Age']>90) | (users['Age']<5),'Age'] = np.nan\n",
    "users['Age']=users['Age'].fillna(users['Age'].mean())\n",
    "users['Age']=users['Age'].astype(np.int32)"
   ]
  },
  {
   "cell_type": "code",
   "execution_count": 25,
   "metadata": {},
   "outputs": [
    {
     "name": "stdout",
     "output_type": "stream",
     "text": [
      "[5, 6, 7, 8, 9, 10, 11, 12, 13, 14, 15, 16, 17, 18, 19, 20, 21, 22, 23, 24, 25, 26, 27, 28, 29, 30, 31, 32, 33, 34, 35, 36, 37, 38, 39, 40, 41, 42, 43, 44, 45, 46, 47, 48, 49, 50, 51, 52, 53, 54, 55, 56, 57, 58, 59, 60, 61, 62, 63, 64, 65, 66, 67, 68, 69, 70, 71, 72, 73, 74, 75, 76, 77, 78, 79, 80, 81, 82, 83, 84, 85, 86, 87, 88, 89, 90]\n"
     ]
    }
   ],
   "source": [
    "print(sorted(users['Age'].unique()))"
   ]
  },
  {
   "cell_type": "markdown",
   "metadata": {},
   "source": [
    "## Ratings Dataset"
   ]
  },
  {
   "cell_type": "code",
   "execution_count": 26,
   "metadata": {},
   "outputs": [
    {
     "name": "stdout",
     "output_type": "stream",
     "text": [
      "Dataset shape : (1149780, 3)\n"
     ]
    },
    {
     "data": {
      "text/html": [
       "<div>\n",
       "<style scoped>\n",
       "    .dataframe tbody tr th:only-of-type {\n",
       "        vertical-align: middle;\n",
       "    }\n",
       "\n",
       "    .dataframe tbody tr th {\n",
       "        vertical-align: top;\n",
       "    }\n",
       "\n",
       "    .dataframe thead th {\n",
       "        text-align: right;\n",
       "    }\n",
       "</style>\n",
       "<table border=\"1\" class=\"dataframe\">\n",
       "  <thead>\n",
       "    <tr style=\"text-align: right;\">\n",
       "      <th></th>\n",
       "      <th>User-ID</th>\n",
       "      <th>ISBN</th>\n",
       "      <th>Book-Rating</th>\n",
       "    </tr>\n",
       "  </thead>\n",
       "  <tbody>\n",
       "    <tr>\n",
       "      <th>0</th>\n",
       "      <td>276725</td>\n",
       "      <td>034545104X</td>\n",
       "      <td>0</td>\n",
       "    </tr>\n",
       "    <tr>\n",
       "      <th>1</th>\n",
       "      <td>276726</td>\n",
       "      <td>0155061224</td>\n",
       "      <td>5</td>\n",
       "    </tr>\n",
       "    <tr>\n",
       "      <th>2</th>\n",
       "      <td>276727</td>\n",
       "      <td>0446520802</td>\n",
       "      <td>0</td>\n",
       "    </tr>\n",
       "    <tr>\n",
       "      <th>3</th>\n",
       "      <td>276729</td>\n",
       "      <td>052165615X</td>\n",
       "      <td>3</td>\n",
       "    </tr>\n",
       "    <tr>\n",
       "      <th>4</th>\n",
       "      <td>276729</td>\n",
       "      <td>0521795028</td>\n",
       "      <td>6</td>\n",
       "    </tr>\n",
       "  </tbody>\n",
       "</table>\n",
       "</div>"
      ],
      "text/plain": [
       "   User-ID        ISBN  Book-Rating\n",
       "0   276725  034545104X            0\n",
       "1   276726  0155061224            5\n",
       "2   276727  0446520802            0\n",
       "3   276729  052165615X            3\n",
       "4   276729  0521795028            6"
      ]
     },
     "execution_count": 26,
     "metadata": {},
     "output_type": "execute_result"
    }
   ],
   "source": [
    "book_rating = pd.read_csv(\"C:/Users/JasJap/OneDrive/Desktop/KGJ_Minor/BX-Book-Ratings.csv\", sep = ';', error_bad_lines = False, encoding = 'latin-1')\n",
    "print(f\"Dataset shape : {book_rating.shape}\")\n",
    "book_rating.head()"
   ]
  },
  {
   "cell_type": "markdown",
   "metadata": {},
   "source": [
    "We observe that our user-book ratings matrix will be very sparse as actual ratings are quite less as compared to size of ratings matrix (number of users × number of books)."
   ]
  },
  {
   "cell_type": "code",
   "execution_count": 27,
   "metadata": {},
   "outputs": [
    {
     "name": "stdout",
     "output_type": "stream",
     "text": [
      "75670906880\n"
     ]
    }
   ],
   "source": [
    "n_users=users.shape[0]\n",
    "n_books=df_book.shape[0]\n",
    "print(n_users * n_books)"
   ]
  },
  {
   "cell_type": "markdown",
   "metadata": {},
   "source": [
    "*ratings dataset have userID and ISBN which also exist in users and books table.*"
   ]
  },
  {
   "cell_type": "code",
   "execution_count": 28,
   "metadata": {},
   "outputs": [],
   "source": [
    "ratings_new = book_rating[book_rating['ISBN'].isin(df_book['ISBN'])] \n",
    "ratings_new = ratings_new[ratings_new['User-ID'].isin(users['User-ID'])]"
   ]
  },
  {
   "cell_type": "code",
   "execution_count": 29,
   "metadata": {},
   "outputs": [
    {
     "name": "stdout",
     "output_type": "stream",
     "text": [
      "(1149780, 3)\n",
      "(1031136, 3)\n"
     ]
    }
   ],
   "source": [
    "print(book_rating.shape)\n",
    "print(ratings_new.shape)"
   ]
  },
  {
   "cell_type": "markdown",
   "metadata": {},
   "source": [
    "It is evident that, users have rated some of the books, which are not part of original books dataset. Sparsity of the dataset can be calculated as below:"
   ]
  },
  {
   "cell_type": "code",
   "execution_count": 30,
   "metadata": {},
   "outputs": [
    {
     "name": "stdout",
     "output_type": "stream",
     "text": [
      "The sparsity level of Book Crossing dataset is 99.99863734155898 %\n"
     ]
    }
   ],
   "source": [
    "sparsity=1.0-len(ratings_new)/float(n_users * n_books)\n",
    "print(\"The sparsity level of Book Crossing dataset is \"+ str(sparsity*100) + ' %')"
   ]
  },
  {
   "cell_type": "markdown",
   "metadata": {},
   "source": [
    "#### The explicit ratings represented by 1–10 and implicit ratings represented by 0 will have to be segregated now. We will be using only explicit ratings for building our book recommendation system. Similarly, users are also segregated into those who rated explicitly and those whose implicit behavior was recorded."
   ]
  },
  {
   "cell_type": "code",
   "execution_count": 31,
   "metadata": {},
   "outputs": [
    {
     "data": {
      "text/plain": [
       "array([ 0,  5,  3,  6,  8,  7, 10,  9,  4,  1,  2], dtype=int64)"
      ]
     },
     "execution_count": 31,
     "metadata": {},
     "output_type": "execute_result"
    }
   ],
   "source": [
    "book_rating['Book-Rating'].unique()"
   ]
  },
  {
   "cell_type": "code",
   "execution_count": 32,
   "metadata": {},
   "outputs": [],
   "source": [
    "rating_exp = ratings_new[ratings_new['Book-Rating']!=0]\n",
    "rating_imp = ratings_new[ratings_new['Book-Rating']==0]"
   ]
  },
  {
   "cell_type": "code",
   "execution_count": 33,
   "metadata": {},
   "outputs": [],
   "source": [
    "users_exp_rating = users[users['User-ID'].isin(rating_exp['User-ID'])]\n",
    "users_imp_rating = users[users['User-ID'].isin(rating_imp['User-ID'])]"
   ]
  },
  {
   "cell_type": "code",
   "execution_count": 34,
   "metadata": {},
   "outputs": [
    {
     "data": {
      "image/png": "[encoded data removed]",
      "text/plain": [
       "<Figure size 864x648 with 1 Axes>"
      ]
     },
     "metadata": {
      "needs_background": "light"
     },
     "output_type": "display_data"
    }
   ],
   "source": [
    "plt.figure(figsize=(12,9))\n",
    "sns.countplot(data=rating_exp, x='Book-Rating')\n",
    "plt.ylabel('Number of Times',fontsize=16)\n",
    "plt.xlabel('Book Rating',fontsize=16)\n",
    "plt.show()"
   ]
  },
  {
   "cell_type": "markdown",
   "metadata": {},
   "source": [
    "#### A countplot of bookRating indicates that higher ratings are more common amongst users and rating 8 has been rated highest number of times."
   ]
  },
  {
   "cell_type": "code",
   "execution_count": 35,
   "metadata": {},
   "outputs": [
    {
     "data": {
      "text/html": [
       "<div>\n",
       "<style scoped>\n",
       "    .dataframe tbody tr th:only-of-type {\n",
       "        vertical-align: middle;\n",
       "    }\n",
       "\n",
       "    .dataframe tbody tr th {\n",
       "        vertical-align: top;\n",
       "    }\n",
       "\n",
       "    .dataframe thead th {\n",
       "        text-align: right;\n",
       "    }\n",
       "</style>\n",
       "<table border=\"1\" class=\"dataframe\">\n",
       "  <thead>\n",
       "    <tr style=\"text-align: right;\">\n",
       "      <th></th>\n",
       "      <th>ISBN</th>\n",
       "      <th>Book-Title</th>\n",
       "      <th>Book-Author</th>\n",
       "      <th>Year-Of-Publication</th>\n",
       "      <th>Publisher</th>\n",
       "    </tr>\n",
       "  </thead>\n",
       "  <tbody>\n",
       "    <tr>\n",
       "      <th>0</th>\n",
       "      <td>0195153448</td>\n",
       "      <td>Classical Mythology</td>\n",
       "      <td>Mark P. O. Morford</td>\n",
       "      <td>2002</td>\n",
       "      <td>Oxford University Press</td>\n",
       "    </tr>\n",
       "    <tr>\n",
       "      <th>1</th>\n",
       "      <td>0002005018</td>\n",
       "      <td>Clara Callan</td>\n",
       "      <td>Richard Bruce Wright</td>\n",
       "      <td>2001</td>\n",
       "      <td>HarperFlamingo Canada</td>\n",
       "    </tr>\n",
       "    <tr>\n",
       "      <th>2</th>\n",
       "      <td>0060973129</td>\n",
       "      <td>Decision in Normandy</td>\n",
       "      <td>Carlo D'Este</td>\n",
       "      <td>1991</td>\n",
       "      <td>HarperPerennial</td>\n",
       "    </tr>\n",
       "    <tr>\n",
       "      <th>3</th>\n",
       "      <td>0374157065</td>\n",
       "      <td>Flu: The Story of the Great Influenza Pandemic...</td>\n",
       "      <td>Gina Bari Kolata</td>\n",
       "      <td>1999</td>\n",
       "      <td>Farrar Straus Giroux</td>\n",
       "    </tr>\n",
       "    <tr>\n",
       "      <th>4</th>\n",
       "      <td>0393045218</td>\n",
       "      <td>The Mummies of Urumchi</td>\n",
       "      <td>E. J. W. Barber</td>\n",
       "      <td>1999</td>\n",
       "      <td>W. W. Norton &amp;amp; Company</td>\n",
       "    </tr>\n",
       "  </tbody>\n",
       "</table>\n",
       "</div>"
      ],
      "text/plain": [
       "         ISBN                                         Book-Title  \\\n",
       "0  0195153448                                Classical Mythology   \n",
       "1  0002005018                                       Clara Callan   \n",
       "2  0060973129                               Decision in Normandy   \n",
       "3  0374157065  Flu: The Story of the Great Influenza Pandemic...   \n",
       "4  0393045218                             The Mummies of Urumchi   \n",
       "\n",
       "            Book-Author  Year-Of-Publication                   Publisher  \n",
       "0    Mark P. O. Morford                 2002     Oxford University Press  \n",
       "1  Richard Bruce Wright                 2001       HarperFlamingo Canada  \n",
       "2          Carlo D'Este                 1991             HarperPerennial  \n",
       "3      Gina Bari Kolata                 1999        Farrar Straus Giroux  \n",
       "4       E. J. W. Barber                 1999  W. W. Norton &amp; Company  "
      ]
     },
     "execution_count": 35,
     "metadata": {},
     "output_type": "execute_result"
    }
   ],
   "source": [
    "book_data = df_book.iloc[:100000,:]\n",
    "book_data.head()"
   ]
  },
  {
   "cell_type": "code",
   "execution_count": 49,
   "metadata": {},
   "outputs": [
    {
     "data": {
      "text/html": [
       "<div>\n",
       "<style scoped>\n",
       "    .dataframe tbody tr th:only-of-type {\n",
       "        vertical-align: middle;\n",
       "    }\n",
       "\n",
       "    .dataframe tbody tr th {\n",
       "        vertical-align: top;\n",
       "    }\n",
       "\n",
       "    .dataframe thead th {\n",
       "        text-align: right;\n",
       "    }\n",
       "</style>\n",
       "<table border=\"1\" class=\"dataframe\">\n",
       "  <thead>\n",
       "    <tr style=\"text-align: right;\">\n",
       "      <th></th>\n",
       "      <th>user_id</th>\n",
       "      <th>Location</th>\n",
       "      <th>Age</th>\n",
       "    </tr>\n",
       "  </thead>\n",
       "  <tbody>\n",
       "    <tr>\n",
       "      <th>0</th>\n",
       "      <td>1</td>\n",
       "      <td>nyc, new york, usa</td>\n",
       "      <td>34</td>\n",
       "    </tr>\n",
       "    <tr>\n",
       "      <th>1</th>\n",
       "      <td>2</td>\n",
       "      <td>stockton, california, usa</td>\n",
       "      <td>18</td>\n",
       "    </tr>\n",
       "    <tr>\n",
       "      <th>2</th>\n",
       "      <td>3</td>\n",
       "      <td>moscow, yukon territory, russia</td>\n",
       "      <td>34</td>\n",
       "    </tr>\n",
       "    <tr>\n",
       "      <th>3</th>\n",
       "      <td>4</td>\n",
       "      <td>porto, v.n.gaia, portugal</td>\n",
       "      <td>17</td>\n",
       "    </tr>\n",
       "    <tr>\n",
       "      <th>4</th>\n",
       "      <td>5</td>\n",
       "      <td>farnborough, hants, united kingdom</td>\n",
       "      <td>34</td>\n",
       "    </tr>\n",
       "  </tbody>\n",
       "</table>\n",
       "</div>"
      ],
      "text/plain": [
       "   user_id                            Location  Age\n",
       "0        1                  nyc, new york, usa   34\n",
       "1        2           stockton, california, usa   18\n",
       "2        3     moscow, yukon territory, russia   34\n",
       "3        4           porto, v.n.gaia, portugal   17\n",
       "4        5  farnborough, hants, united kingdom   34"
      ]
     },
     "execution_count": 49,
     "metadata": {},
     "output_type": "execute_result"
    }
   ],
   "source": [
    "users_data = users.iloc[:100000,:]\n",
    "# Reindex and rename the columns of the DataFrame\n",
    "users_data = users_data.reindex(columns=[\"User-ID\", \"Location\", \"Age\"])\n",
    "users_data.rename(columns={\"User-ID\" : \"user_id\"}, inplace=True)\n",
    "users_data.head()"
   ]
  },
  {
   "cell_type": "code",
   "execution_count": 79,
   "metadata": {},
   "outputs": [
    {
     "data": {
      "text/html": [
       "<div>\n",
       "<style scoped>\n",
       "    .dataframe tbody tr th:only-of-type {\n",
       "        vertical-align: middle;\n",
       "    }\n",
       "\n",
       "    .dataframe tbody tr th {\n",
       "        vertical-align: top;\n",
       "    }\n",
       "\n",
       "    .dataframe thead th {\n",
       "        text-align: right;\n",
       "    }\n",
       "</style>\n",
       "<table border=\"1\" class=\"dataframe\">\n",
       "  <thead>\n",
       "    <tr style=\"text-align: right;\">\n",
       "      <th></th>\n",
       "      <th>user_id</th>\n",
       "      <th>ISBN</th>\n",
       "      <th>Book-Rating</th>\n",
       "    </tr>\n",
       "  </thead>\n",
       "  <tbody>\n",
       "    <tr>\n",
       "      <th>0</th>\n",
       "      <td>276725</td>\n",
       "      <td>034545104X</td>\n",
       "      <td>0</td>\n",
       "    </tr>\n",
       "    <tr>\n",
       "      <th>1</th>\n",
       "      <td>276726</td>\n",
       "      <td>0155061224</td>\n",
       "      <td>5</td>\n",
       "    </tr>\n",
       "    <tr>\n",
       "      <th>2</th>\n",
       "      <td>276727</td>\n",
       "      <td>0446520802</td>\n",
       "      <td>0</td>\n",
       "    </tr>\n",
       "    <tr>\n",
       "      <th>3</th>\n",
       "      <td>276729</td>\n",
       "      <td>052165615X</td>\n",
       "      <td>3</td>\n",
       "    </tr>\n",
       "    <tr>\n",
       "      <th>4</th>\n",
       "      <td>276729</td>\n",
       "      <td>0521795028</td>\n",
       "      <td>6</td>\n",
       "    </tr>\n",
       "  </tbody>\n",
       "</table>\n",
       "</div>"
      ],
      "text/plain": [
       "   user_id        ISBN  Book-Rating\n",
       "0   276725  034545104X            0\n",
       "1   276726  0155061224            5\n",
       "2   276727  0446520802            0\n",
       "3   276729  052165615X            3\n",
       "4   276729  0521795028            6"
      ]
     },
     "execution_count": 79,
     "metadata": {},
     "output_type": "execute_result"
    }
   ],
   "source": [
    "rating_data=book_rating.iloc[:100000,:]\n",
    "rating_data = rating_data.reindex(columns=[\"User-ID\", \"ISBN\", \"Book-Rating\"])\n",
    "rating_data.rename(columns={\"User-ID\" : \"user_id\"}, inplace=True)\n",
    "rating_data.head()"
   ]
  },
  {
   "cell_type": "markdown",
   "metadata": {},
   "source": [
    "### Merge Books and Ratings dataframes"
   ]
  },
  {
   "cell_type": "code",
   "execution_count": 38,
   "metadata": {},
   "outputs": [],
   "source": [
    "data = pd.merge(book_data,rating_data,on='ISBN')"
   ]
  },
  {
   "cell_type": "code",
   "execution_count": 39,
   "metadata": {},
   "outputs": [],
   "source": [
    "# Reindex and rename the columns of the DataFrame\n",
    "data = data.reindex(columns=[\"ISBN\", \"User-ID\", \"Book-Title\", \"Book-Author\", \"Year-Of-Publication\", \"Publisher\", \"Book-Rating\"])\n",
    "data.rename(columns={\"User-ID\" : \"user_id\", 'Book-Title' : 'Title', 'Book-Author' : 'Author', \"Book-Rating\" : \"Rating\"}, inplace=True)"
   ]
  },
  {
   "cell_type": "code",
   "execution_count": 40,
   "metadata": {},
   "outputs": [
    {
     "data": {
      "text/html": [
       "<div>\n",
       "<style scoped>\n",
       "    .dataframe tbody tr th:only-of-type {\n",
       "        vertical-align: middle;\n",
       "    }\n",
       "\n",
       "    .dataframe tbody tr th {\n",
       "        vertical-align: top;\n",
       "    }\n",
       "\n",
       "    .dataframe thead th {\n",
       "        text-align: right;\n",
       "    }\n",
       "</style>\n",
       "<table border=\"1\" class=\"dataframe\">\n",
       "  <thead>\n",
       "    <tr style=\"text-align: right;\">\n",
       "      <th></th>\n",
       "      <th>ISBN</th>\n",
       "      <th>user_id</th>\n",
       "      <th>Title</th>\n",
       "      <th>Author</th>\n",
       "      <th>Year-Of-Publication</th>\n",
       "      <th>Publisher</th>\n",
       "      <th>Rating</th>\n",
       "    </tr>\n",
       "  </thead>\n",
       "  <tbody>\n",
       "    <tr>\n",
       "      <th>0</th>\n",
       "      <td>0195153448</td>\n",
       "      <td>2</td>\n",
       "      <td>Classical Mythology</td>\n",
       "      <td>Mark P. O. Morford</td>\n",
       "      <td>2002</td>\n",
       "      <td>Oxford University Press</td>\n",
       "      <td>0</td>\n",
       "    </tr>\n",
       "    <tr>\n",
       "      <th>1</th>\n",
       "      <td>0002005018</td>\n",
       "      <td>8</td>\n",
       "      <td>Clara Callan</td>\n",
       "      <td>Richard Bruce Wright</td>\n",
       "      <td>2001</td>\n",
       "      <td>HarperFlamingo Canada</td>\n",
       "      <td>5</td>\n",
       "    </tr>\n",
       "    <tr>\n",
       "      <th>2</th>\n",
       "      <td>0002005018</td>\n",
       "      <td>11400</td>\n",
       "      <td>Clara Callan</td>\n",
       "      <td>Richard Bruce Wright</td>\n",
       "      <td>2001</td>\n",
       "      <td>HarperFlamingo Canada</td>\n",
       "      <td>0</td>\n",
       "    </tr>\n",
       "    <tr>\n",
       "      <th>3</th>\n",
       "      <td>0002005018</td>\n",
       "      <td>11676</td>\n",
       "      <td>Clara Callan</td>\n",
       "      <td>Richard Bruce Wright</td>\n",
       "      <td>2001</td>\n",
       "      <td>HarperFlamingo Canada</td>\n",
       "      <td>8</td>\n",
       "    </tr>\n",
       "    <tr>\n",
       "      <th>4</th>\n",
       "      <td>0060973129</td>\n",
       "      <td>8</td>\n",
       "      <td>Decision in Normandy</td>\n",
       "      <td>Carlo D'Este</td>\n",
       "      <td>1991</td>\n",
       "      <td>HarperPerennial</td>\n",
       "      <td>0</td>\n",
       "    </tr>\n",
       "  </tbody>\n",
       "</table>\n",
       "</div>"
      ],
      "text/plain": [
       "         ISBN  user_id                 Title                Author  \\\n",
       "0  0195153448        2   Classical Mythology    Mark P. O. Morford   \n",
       "1  0002005018        8          Clara Callan  Richard Bruce Wright   \n",
       "2  0002005018    11400          Clara Callan  Richard Bruce Wright   \n",
       "3  0002005018    11676          Clara Callan  Richard Bruce Wright   \n",
       "4  0060973129        8  Decision in Normandy          Carlo D'Este   \n",
       "\n",
       "   Year-Of-Publication                Publisher  Rating  \n",
       "0                 2002  Oxford University Press       0  \n",
       "1                 2001    HarperFlamingo Canada       5  \n",
       "2                 2001    HarperFlamingo Canada       0  \n",
       "3                 2001    HarperFlamingo Canada       8  \n",
       "4                 1991          HarperPerennial       0  "
      ]
     },
     "execution_count": 40,
     "metadata": {},
     "output_type": "execute_result"
    }
   ],
   "source": [
    "data.head()"
   ]
  },
  {
   "cell_type": "code",
   "execution_count": 41,
   "metadata": {},
   "outputs": [
    {
     "data": {
      "image/png": "[encoded data removed]",
      "text/plain": [
       "<Figure size 648x432 with 1 Axes>"
      ]
     },
     "metadata": {},
     "output_type": "display_data"
    }
   ],
   "source": [
    "# Visualize the number of books published each year through histogram\n",
    "data['Year-Of-Publication'] = data['Year-Of-Publication'].astype('int64')\n",
    "sns.set_style('darkgrid')\n",
    "fig, ax =plt.subplots()\n",
    "fig.set_size_inches(9,6)\n",
    "a=np.arange(1925,2021,3)\n",
    "sns.histplot(data['Year-Of-Publication'],bins=np.arange(1925,2021,2),color='magenta')\n",
    "plt.ylabel('No. of Books Published',fontsize=15)\n",
    "plt.xlabel('Year', fontsize=15)\n",
    "plt.title('Visualizing the total number of books published each year', fontsize=18)\n",
    "plt.show()"
   ]
  },
  {
   "cell_type": "code",
   "execution_count": 42,
   "metadata": {},
   "outputs": [
    {
     "data": {
      "text/plain": [
       "2002    7152\n",
       "2001    6283\n",
       "1999    6072\n",
       "2000    5841\n",
       "2003    5358\n",
       "        ... \n",
       "1923       1\n",
       "1939       1\n",
       "2020       1\n",
       "1938       1\n",
       "1927       1\n",
       "Name: Year-Of-Publication, Length: 77, dtype: int64"
      ]
     },
     "execution_count": 42,
     "metadata": {},
     "output_type": "execute_result"
    }
   ],
   "source": [
    "# Visualize the number of books published each year individaully\n",
    "data['Year-Of-Publication'].value_counts()"
   ]
  },
  {
   "cell_type": "code",
   "execution_count": 43,
   "metadata": {},
   "outputs": [
    {
     "data": {
      "text/plain": [
       "Ballantine Books              2799\n",
       "Pocket                        2455\n",
       "Berkley Publishing Group      2214\n",
       "Warner Books                  1969\n",
       "Bantam Books                  1828\n",
       "                              ... \n",
       "Skinner House Books              1\n",
       "Quiet Vision Pub                 1\n",
       "No Starch Press                  1\n",
       "Abbey Press                      1\n",
       "University of Nevada Press       1\n",
       "Name: Publisher, Length: 4434, dtype: int64"
      ]
     },
     "execution_count": 43,
     "metadata": {},
     "output_type": "execute_result"
    }
   ],
   "source": [
    "# Visualize the number of books published by each publisher\n",
    "data['Publisher'].value_counts()"
   ]
  },
  {
   "cell_type": "code",
   "execution_count": 44,
   "metadata": {},
   "outputs": [],
   "source": [
    "new_data = pd.DataFrame(data.groupby(\"Title\").mean()[\"Rating\"])\n",
    "new_data['Num_of_ratings'] = pd.DataFrame(data.groupby('Title').count()['Rating'])"
   ]
  },
  {
   "cell_type": "code",
   "execution_count": 61,
   "metadata": {},
   "outputs": [
    {
     "data": {
      "text/html": [
       "<div>\n",
       "<style scoped>\n",
       "    .dataframe tbody tr th:only-of-type {\n",
       "        vertical-align: middle;\n",
       "    }\n",
       "\n",
       "    .dataframe tbody tr th {\n",
       "        vertical-align: top;\n",
       "    }\n",
       "\n",
       "    .dataframe thead th {\n",
       "        text-align: right;\n",
       "    }\n",
       "</style>\n",
       "<table border=\"1\" class=\"dataframe\">\n",
       "  <thead>\n",
       "    <tr style=\"text-align: right;\">\n",
       "      <th></th>\n",
       "      <th>Rating</th>\n",
       "      <th>Num_of_ratings</th>\n",
       "    </tr>\n",
       "    <tr>\n",
       "      <th>Title</th>\n",
       "      <th></th>\n",
       "      <th></th>\n",
       "    </tr>\n",
       "  </thead>\n",
       "  <tbody>\n",
       "    <tr>\n",
       "      <th>Wild Animus</th>\n",
       "      <td>0.954315</td>\n",
       "      <td>197</td>\n",
       "    </tr>\n",
       "    <tr>\n",
       "      <th>The Lovely Bones: A Novel</th>\n",
       "      <td>4.504673</td>\n",
       "      <td>107</td>\n",
       "    </tr>\n",
       "    <tr>\n",
       "      <th>The Secret Life of Bees</th>\n",
       "      <td>5.294872</td>\n",
       "      <td>78</td>\n",
       "    </tr>\n",
       "    <tr>\n",
       "      <th>The Da Vinci Code</th>\n",
       "      <td>5.078947</td>\n",
       "      <td>76</td>\n",
       "    </tr>\n",
       "    <tr>\n",
       "      <th>Life of Pi</th>\n",
       "      <td>3.985915</td>\n",
       "      <td>71</td>\n",
       "    </tr>\n",
       "    <tr>\n",
       "      <th>The Nanny Diaries: A Novel</th>\n",
       "      <td>4.214286</td>\n",
       "      <td>70</td>\n",
       "    </tr>\n",
       "    <tr>\n",
       "      <th>Divine Secrets of the Ya-Ya Sisterhood: A Novel</th>\n",
       "      <td>4.000000</td>\n",
       "      <td>70</td>\n",
       "    </tr>\n",
       "    <tr>\n",
       "      <th>The Red Tent (Bestselling Backlist)</th>\n",
       "      <td>4.484375</td>\n",
       "      <td>64</td>\n",
       "    </tr>\n",
       "    <tr>\n",
       "      <th>A Painted House</th>\n",
       "      <td>3.468750</td>\n",
       "      <td>64</td>\n",
       "    </tr>\n",
       "    <tr>\n",
       "      <th>Bridget Jones's Diary</th>\n",
       "      <td>3.269841</td>\n",
       "      <td>63</td>\n",
       "    </tr>\n",
       "    <tr>\n",
       "      <th>The Pelican Brief</th>\n",
       "      <td>2.950000</td>\n",
       "      <td>60</td>\n",
       "    </tr>\n",
       "    <tr>\n",
       "      <th>Snow Falling on Cedars</th>\n",
       "      <td>3.912281</td>\n",
       "      <td>57</td>\n",
       "    </tr>\n",
       "    <tr>\n",
       "      <th>Where the Heart Is (Oprah's Book Club (Paperback))</th>\n",
       "      <td>4.537037</td>\n",
       "      <td>54</td>\n",
       "    </tr>\n",
       "    <tr>\n",
       "      <th>Harry Potter and the Sorcerer's Stone (Harry Potter (Paperback))</th>\n",
       "      <td>4.584906</td>\n",
       "      <td>53</td>\n",
       "    </tr>\n",
       "    <tr>\n",
       "      <th>White Oleander : A Novel</th>\n",
       "      <td>4.056604</td>\n",
       "      <td>53</td>\n",
       "    </tr>\n",
       "  </tbody>\n",
       "</table>\n",
       "</div>"
      ],
      "text/plain": [
       "                                                      Rating  Num_of_ratings\n",
       "Title                                                                       \n",
       "Wild Animus                                         0.954315             197\n",
       "The Lovely Bones: A Novel                           4.504673             107\n",
       "The Secret Life of Bees                             5.294872              78\n",
       "The Da Vinci Code                                   5.078947              76\n",
       "Life of Pi                                          3.985915              71\n",
       "The Nanny Diaries: A Novel                          4.214286              70\n",
       "Divine Secrets of the Ya-Ya Sisterhood: A Novel     4.000000              70\n",
       "The Red Tent (Bestselling Backlist)                 4.484375              64\n",
       "A Painted House                                     3.468750              64\n",
       "Bridget Jones's Diary                               3.269841              63\n",
       "The Pelican Brief                                   2.950000              60\n",
       "Snow Falling on Cedars                              3.912281              57\n",
       "Where the Heart Is (Oprah's Book Club (Paperback))  4.537037              54\n",
       "Harry Potter and the Sorcerer's Stone (Harry Po...  4.584906              53\n",
       "White Oleander : A Novel                            4.056604              53"
      ]
     },
     "execution_count": 61,
     "metadata": {},
     "output_type": "execute_result"
    }
   ],
   "source": [
    "new_data.sort_values(by=['Num_of_ratings','Rating'],ascending=False).head(15)"
   ]
  },
  {
   "cell_type": "code",
   "execution_count": 46,
   "metadata": {},
   "outputs": [
    {
     "data": {
      "text/plain": [
       "Author\n",
       "Stephen King          741\n",
       "Nora Roberts          508\n",
       "John Grisham          486\n",
       "James Patterson       426\n",
       "Mary Higgins Clark    404\n",
       "Dean R. Koontz        357\n",
       "Tom Clancy            309\n",
       "Danielle Steel        289\n",
       "Janet Evanovich       285\n",
       "Sue Grafton           259\n",
       "Name: Title, dtype: int64"
      ]
     },
     "execution_count": 46,
     "metadata": {},
     "output_type": "execute_result"
    }
   ],
   "source": [
    "# Visualizing top 10 most prolific authors\n",
    "data.groupby('Author').count().sort_values('Rating',ascending=False)['Title'].head(10)"
   ]
  },
  {
   "cell_type": "code",
   "execution_count": 52,
   "metadata": {},
   "outputs": [
    {
     "data": {
      "text/html": [
       "<div>\n",
       "<style scoped>\n",
       "    .dataframe tbody tr th:only-of-type {\n",
       "        vertical-align: middle;\n",
       "    }\n",
       "\n",
       "    .dataframe tbody tr th {\n",
       "        vertical-align: top;\n",
       "    }\n",
       "\n",
       "    .dataframe thead th {\n",
       "        text-align: right;\n",
       "    }\n",
       "</style>\n",
       "<table border=\"1\" class=\"dataframe\">\n",
       "  <thead>\n",
       "    <tr style=\"text-align: right;\">\n",
       "      <th></th>\n",
       "      <th>user_id</th>\n",
       "      <th>Location</th>\n",
       "      <th>Age</th>\n",
       "      <th>ISBN</th>\n",
       "      <th>Title</th>\n",
       "      <th>Author</th>\n",
       "      <th>Year-Of-Publication</th>\n",
       "      <th>Publisher</th>\n",
       "      <th>Rating</th>\n",
       "    </tr>\n",
       "  </thead>\n",
       "  <tbody>\n",
       "    <tr>\n",
       "      <th>0</th>\n",
       "      <td>2</td>\n",
       "      <td>stockton, california, usa</td>\n",
       "      <td>18</td>\n",
       "      <td>0195153448</td>\n",
       "      <td>Classical Mythology</td>\n",
       "      <td>Mark P. O. Morford</td>\n",
       "      <td>2002</td>\n",
       "      <td>Oxford University Press</td>\n",
       "      <td>0</td>\n",
       "    </tr>\n",
       "    <tr>\n",
       "      <th>1</th>\n",
       "      <td>8</td>\n",
       "      <td>timmins, ontario, canada</td>\n",
       "      <td>34</td>\n",
       "      <td>0002005018</td>\n",
       "      <td>Clara Callan</td>\n",
       "      <td>Richard Bruce Wright</td>\n",
       "      <td>2001</td>\n",
       "      <td>HarperFlamingo Canada</td>\n",
       "      <td>5</td>\n",
       "    </tr>\n",
       "    <tr>\n",
       "      <th>2</th>\n",
       "      <td>8</td>\n",
       "      <td>timmins, ontario, canada</td>\n",
       "      <td>34</td>\n",
       "      <td>0060973129</td>\n",
       "      <td>Decision in Normandy</td>\n",
       "      <td>Carlo D'Este</td>\n",
       "      <td>1991</td>\n",
       "      <td>HarperPerennial</td>\n",
       "      <td>0</td>\n",
       "    </tr>\n",
       "    <tr>\n",
       "      <th>3</th>\n",
       "      <td>8</td>\n",
       "      <td>timmins, ontario, canada</td>\n",
       "      <td>34</td>\n",
       "      <td>0374157065</td>\n",
       "      <td>Flu: The Story of the Great Influenza Pandemic...</td>\n",
       "      <td>Gina Bari Kolata</td>\n",
       "      <td>1999</td>\n",
       "      <td>Farrar Straus Giroux</td>\n",
       "      <td>0</td>\n",
       "    </tr>\n",
       "    <tr>\n",
       "      <th>4</th>\n",
       "      <td>8</td>\n",
       "      <td>timmins, ontario, canada</td>\n",
       "      <td>34</td>\n",
       "      <td>0393045218</td>\n",
       "      <td>The Mummies of Urumchi</td>\n",
       "      <td>E. J. W. Barber</td>\n",
       "      <td>1999</td>\n",
       "      <td>W. W. Norton &amp;amp; Company</td>\n",
       "      <td>0</td>\n",
       "    </tr>\n",
       "    <tr>\n",
       "      <th>5</th>\n",
       "      <td>8</td>\n",
       "      <td>timmins, ontario, canada</td>\n",
       "      <td>34</td>\n",
       "      <td>0399135782</td>\n",
       "      <td>The Kitchen God's Wife</td>\n",
       "      <td>Amy Tan</td>\n",
       "      <td>1991</td>\n",
       "      <td>Putnam Pub Group</td>\n",
       "      <td>0</td>\n",
       "    </tr>\n",
       "    <tr>\n",
       "      <th>6</th>\n",
       "      <td>8</td>\n",
       "      <td>timmins, ontario, canada</td>\n",
       "      <td>34</td>\n",
       "      <td>0425176428</td>\n",
       "      <td>What If?: The World's Foremost Military Histor...</td>\n",
       "      <td>Robert Cowley</td>\n",
       "      <td>2000</td>\n",
       "      <td>Berkley Publishing Group</td>\n",
       "      <td>0</td>\n",
       "    </tr>\n",
       "    <tr>\n",
       "      <th>7</th>\n",
       "      <td>8</td>\n",
       "      <td>timmins, ontario, canada</td>\n",
       "      <td>34</td>\n",
       "      <td>0671870432</td>\n",
       "      <td>PLEADING GUILTY</td>\n",
       "      <td>Scott Turow</td>\n",
       "      <td>1993</td>\n",
       "      <td>Audioworks</td>\n",
       "      <td>0</td>\n",
       "    </tr>\n",
       "    <tr>\n",
       "      <th>8</th>\n",
       "      <td>8</td>\n",
       "      <td>timmins, ontario, canada</td>\n",
       "      <td>34</td>\n",
       "      <td>0679425608</td>\n",
       "      <td>Under the Black Flag: The Romance and the Real...</td>\n",
       "      <td>David Cordingly</td>\n",
       "      <td>1996</td>\n",
       "      <td>Random House</td>\n",
       "      <td>0</td>\n",
       "    </tr>\n",
       "    <tr>\n",
       "      <th>9</th>\n",
       "      <td>8</td>\n",
       "      <td>timmins, ontario, canada</td>\n",
       "      <td>34</td>\n",
       "      <td>074322678X</td>\n",
       "      <td>Where You'll Find Me: And Other Stories</td>\n",
       "      <td>Ann Beattie</td>\n",
       "      <td>2002</td>\n",
       "      <td>Scribner</td>\n",
       "      <td>5</td>\n",
       "    </tr>\n",
       "  </tbody>\n",
       "</table>\n",
       "</div>"
      ],
      "text/plain": [
       "   user_id                   Location  Age        ISBN  \\\n",
       "0        2  stockton, california, usa   18  0195153448   \n",
       "1        8   timmins, ontario, canada   34  0002005018   \n",
       "2        8   timmins, ontario, canada   34  0060973129   \n",
       "3        8   timmins, ontario, canada   34  0374157065   \n",
       "4        8   timmins, ontario, canada   34  0393045218   \n",
       "5        8   timmins, ontario, canada   34  0399135782   \n",
       "6        8   timmins, ontario, canada   34  0425176428   \n",
       "7        8   timmins, ontario, canada   34  0671870432   \n",
       "8        8   timmins, ontario, canada   34  0679425608   \n",
       "9        8   timmins, ontario, canada   34  074322678X   \n",
       "\n",
       "                                               Title                Author  \\\n",
       "0                                Classical Mythology    Mark P. O. Morford   \n",
       "1                                       Clara Callan  Richard Bruce Wright   \n",
       "2                               Decision in Normandy          Carlo D'Este   \n",
       "3  Flu: The Story of the Great Influenza Pandemic...      Gina Bari Kolata   \n",
       "4                             The Mummies of Urumchi       E. J. W. Barber   \n",
       "5                             The Kitchen God's Wife               Amy Tan   \n",
       "6  What If?: The World's Foremost Military Histor...         Robert Cowley   \n",
       "7                                    PLEADING GUILTY           Scott Turow   \n",
       "8  Under the Black Flag: The Romance and the Real...       David Cordingly   \n",
       "9            Where You'll Find Me: And Other Stories           Ann Beattie   \n",
       "\n",
       "   Year-Of-Publication                   Publisher  Rating  \n",
       "0                 2002     Oxford University Press       0  \n",
       "1                 2001       HarperFlamingo Canada       5  \n",
       "2                 1991             HarperPerennial       0  \n",
       "3                 1999        Farrar Straus Giroux       0  \n",
       "4                 1999  W. W. Norton &amp; Company       0  \n",
       "5                 1991            Putnam Pub Group       0  \n",
       "6                 2000    Berkley Publishing Group       0  \n",
       "7                 1993                  Audioworks       0  \n",
       "8                 1996                Random House       0  \n",
       "9                 2002                    Scribner       5  "
      ]
     },
     "execution_count": 52,
     "metadata": {},
     "output_type": "execute_result"
    }
   ],
   "source": [
    "data_combine = pd.merge(users_data,data,on='user_id')\n",
    "data_combine.head(10)"
   ]
  },
  {
   "cell_type": "code",
   "execution_count": 103,
   "metadata": {},
   "outputs": [
    {
     "name": "stdout",
     "output_type": "stream",
     "text": [
      "['usa', 'canada', 'usa', 'spain', 'usa', 'usa', 'usa', 'usa', 'usa', 'germany', 'usa', 'usa', 'usa', 'canada', 'usa', 'usa', 'usa', 'usa', 'usa', 'usa', 'france', 'usa', 'canada', 'usa', 'usa', 'usa', 'usa', 'canada', 'usa', 'usa', 'usa', 'united kingdom', 'usa', 'usa', 'usa', 'spain', 'usa', 'usa', 'usa', 'spain', 'canada', 'usa', 'usa', 'usa', 'usa', 'usa', 'usa', 'usa', 'usa', 'usa', 'usa', 'usa', 'australia', 'portugal', 'usa', 'usa', 'usa', 'united kingdom', 'usa', 'portugal', 'usa', 'belgium', 'india', 'usa', 'usa', 'usa', 'philippines', 'canada', 'usa', 'usa', 'usa', 'usa', 'usa', 'usa', 'usa', 'usa', 'germany', 'usa', 'usa', 'greece', 'usa', 'usa', 'quit', 'usa', 'usa', 'usa', 'usa', 'usa', 'usa', 'usa', 'usa', 'netherlands', 'usa', 'usa', 'usa', 'usa', 'usa', 'finland', 'spain', 'finland', 'usa', 'usa', 'usa', 'spain', 'canada', 'usa', 'germany', 'usa', 'usa', 'romania', 'usa', 'usa', 'spain', 'united kingdom', 'usa', 'spain', 'usa', 'usa', 'canada', 'usa', 'usa', 'usa', 'usa', 'usa', 'usa', 'usa', 'usa', 'usa', 'usa', 'usa', 'italy', 'australia', 'usa', 'usa', 'usa', 'usa', 'usa', 'usa', 'usa', 'canada', 'usa', 'usa', 'usa', 'usa', 'usa', 'usa', 'usa', 'usa', 'usa', 'usa', 'usa', 'usa', 'usa', 'usa', 'usa', 'usa', 'usa', 'pakistan', 'italy', 'usa', 'usa', 'usa', 'usa', 'usa', 'canada', 'france', 'austria', 'germany', 'usa', 'usa', 'canada', 'france', 'usa', 'usa', 'usa', 'usa', 'netherlands', 'usa', 'italy', 'usa', 'usa', 'united kingdom', 'switzerland', 'united kingdom', 'usa', 'usa', 'usa', 'usa', 'usa', 'usa', 'germany', 'usa', 'usa', 'usa', 'usa', 'usa', 'usa', 'germany', 'usa', 'usa', 'usa', 'usa', 'new zealand', 'usa', 'usa', 'usa', 'usa', 'usa', 'canada', 'usa', 'usa', 'usa', 'usa', 'switzerland', 'malaysia', 'usa', 'usa', 'usa', 'italy', 'usa', 'germany', 'usa', 'usa', 'usa', 'usa', 'usa', 'usa', 'usa', 'australia', 'united kingdom', 'germany', 'united kingdom', 'usa', 'united kingdom', 'germany', 'usa', 'germany', 'france', 'canada', 'usa', 'usa', 'usa', 'usa', 'australia', 'usa', 'usa', 'italy', 'usa', 'usa', 'usa', 'usa', 'usa', 'germany', 'usa', 'usa', 'united kingdom', 'usa', 'usa', 'canada', 'usa', 'united kingdom', 'usa', 'usa', 'usa', 'usa', 'usa', 'usa', 'usa', 'usa', 'germany', 'usa', 'usa', 'canada', 'usa', 'canada', 'usa', 'usa', 'canada', 'usa', 'usa', 'usa', 'australia', 'spain', 'usa', 'usa', 'usa', 'usa', 'usa', 'france', 'usa', 'germany', 'usa', 'spain', 'germany', 'usa', 'usa', 'germany', 'malaysia', 'usa', 'germany', 'france', 'germany', 'malaysia', 'usa', 'usa', 'new zealand', 'italy', 'spain', 'canada', 'new zealand', 'usa', 'canada', 'usa', 'usa', 'usa', 'canada', 'usa', 'usa', 'germany', 'usa', 'usa', 'usa', 'usa', 'australia', 'usa', 'canada', 'usa', 'usa', 'usa', 'usa', 'italy', 'usa', 'usa', 'germany', 'portugal', 'united kingdom', 'united kingdom', 'usa', 'usa', 'usa', 'usa', 'usa', 'canada', 'germany', 'usa', 'usa', 'usa', 'usa', 'usa', 'usa', 'usa', 'usa', 'usa', 'usa', 'usa', 'united kingdom', 'usa', 'australia', 'usa', 'usa', 'usa', 'canada', 'canada', 'france', 'usa', 'usa', 'denmark', 'germany', 'chile', 'usa', 'usa', 'united kingdom', 'usa', 'australia', 'usa', 'usa', 'united kingdom', 'usa', 'united kingdom', 'usa', 'usa', 'usa', 'usa', 'spain', 'usa', 'usa', 'usa', 'canada', 'germany', 'costa rica', 'usa', 'usa', 'usa', 'usa', 'usa', 'usa', 'usa', 'usa', 'united kingdom', 'united kingdom', 'germany', 'usa', 'usa', 'usa', 'usa', 'austria', 'usa', 'ethiopia', 'usa', 'usa', 'spain', 'usa', 'usa', 'usa', 'canada', 'usa', 'united kingdom', 'spain', 'usa', 'singapore', 'canada', 'usa', 'united kingdom', 'usa', 'usa', 'italy', 'italy', 'usa', 'spain', 'usa', 'usa', 'usa', 'canada', 'france', 'italy', 'usa', 'usa', 'usa', 'romania', 'united kingdom', 'malaysia', 'usa', 'germany', 'france', 'usa', 'australia', 'canada', 'germany', 'usa', 'usa', 'netherlands', 'usa', 'usa', 'usa', 'usa', 'usa', 'taiwan', 'australia', 'usa', 'australia', 'usa', 'usa', 'usa', 'usa', 'germany', 'usa', 'germany', 'spain', 'usa', 'usa', 'united kingdom', 'usa', 'brazil', 'spain', 'germany', 'usa', 'canada', 'portugal', 'canada', 'usa', 'usa', 'usa', 'usa', 'usa', 'italy', 'usa', 'usa', 'austria', 'usa', 'germany', 'usa', 'spain', 'usa', 'usa', 'usa', 'usa', 'usa', 'usa', 'canada', 'usa', 'canada', 'usa', 'usa', 'usa', 'usa', 'usa', 'usa', 'usa', 'usa', 'usa', 'spain', 'switzerland', 'usa', 'germany', 'philippines', 'usa', 'usa', 'canada', 'usa', 'canada', 'australia', 'united kingdom', 'usa', 'germany', 'usa', 'usa', 'usa', 'usa', 'germany', 'canada', 'usa', 'spain', 'usa', 'usa', 'usa', 'usa', 'usa', 'usa', 'usa', 'usa', 'usa', 'usa', 'united kingdom', 'usa', 'united kingdom', 'usa', 'usa', 'netherlands', 'usa', 'usa', 'usa', 'usa', 'germany', 'germany', 'germany', 'canada', 'usa', 'netherlands', 'usa', 'usa', 'usa', 'usa', 'usa', 'usa', 'germany', 'usa', 'usa', 'germany', 'usa', 'australia', 'germany', 'spain', 'usa', 'south africa', 'usa', 'usa', 'germany', 'canada', 'usa', 'usa', 'usa', 'usa', 'usa', 'usa', 'portugal', 'spain', 'united kingdom', 'spain', 'spain', 'usa', 'italy', 'canada', 'usa', 'usa', 'usa', 'germany', 'france', 'france', 'alderney', 'usa', 'usa', 'usa', 'usa', 'usa', 'sweden', 'canada', 'canada', 'usa', 'usa', 'usa', 'usa', 'usa', 'usa', 'germany', 'usa', 'usa', 'usa', 'usa', 'usa', 'usa', 'austria', 'usa', 'usa', 'usa', 'usa', 'usa', 'usa', 'italy', 'usa', 'poland', 'latvia', 'usa', 'united kingdom', 'usa', 'italy', 'germany', 'usa', 'usa', 'united kingdom', 'usa', 'italy', 'usa', 'canada', 'usa', 'switzerland', 'usa', 'germany', 'italy', 'usa', 'usa', 'usa', 'usa', 'usa', 'spain', 'australia', 'usa', 'usa', 'usa', 'usa', 'portugal', 'usa', 'usa', 'usa', 'usa', 'usa', 'usa', 'spain', 'brazil', 'usa', 'usa', 'usa', 'usa', 'usa', 'usa', 'usa', 'usa', 'usa', 'italy', 'united kingdom', 'united kingdom', 'ireland', 'usa', 'italy', 'finland', 'usa', 'italy', 'usa', 'malaysia', 'united kingdom', 'usa', 'portugal', 'austria', 'usa', 'australia', 'usa', 'usa', 'usa', 'usa', 'usa', 'usa', 'france', 'usa', 'usa', 'germany', 'argentina', 'n/a', 'sweden', 'usa', 'usa', 'netherlands', 'canada', 'united kingdom', 'usa', 'usa', 'usa', 'usa', 'usa', 'canada', 'usa', 'usa', 'new zealand', 'norway', 'ireland', 'australia', 'usa', 'usa', 'spain', 'spain', 'italy', 'switzerland', 'sweden', 'canada', 'germany', 'canada', 'usa', 'usa', 'canada', 'australia', 'spain', 'canada', 'usa', 'usa', 'usa', 'usa', 'united kingdom', 'iran', 'usa', 'usa', 'usa', 'usa', 'usa', 'usa', 'usa', 'canada', 'canada', 'saudi arabia', 'usa', 'spain', 'germany', 'usa', 'australia', 'usa', 'canada', 'usa', 'usa', 'usa', 'usa', 'slovenia', 'usa', 'usa', 'united kingdom', 'usa', 'usa', 'usa', 'usa', 'usa', 'usa', 'usa', 'usa', 'usa', 'australia', 'usa', 'usa', 'spain', 'usa', 'usa', 'usa', 'australia', 'usa', 'usa', 'usa', 'usa', 'usa', 'usa', 'canada', 'usa', 'csa', 'usa', 'canada', 'usa', 'usa', 'germany', 'usa', 'germany', 'france', 'germany', 'usa', 'usa', 'usa', 'usa', 'usa', 'usa', 'usa', 'united kingdom', 'usa', 'usa', 'france', 'usa', 'usa', 'usa', 'usa', 'usa', 'united kingdom', 'switzerland', 'usa', 'austria', 'usa', 'usa', 'united kingdom', 'usa', 'germany', 'united kingdom', 'usa', 'usa', 'usa', 'usa', 'usa', 'usa', 'spain', 'usa', 'usa', 'usa', 'usa', 'usa', 'netherlands', 'united kingdom', 'usa', 'usa', 'canada', 'usa', 'usa', 'france', 'usa', 'canada', 'canada', 'switzerland', 'italy', 'usa', 'kazakhstan', 'turkey\"', 'usa', 'germany', 'usa', 'usa', 'usa', 'canada', 'usa', 'usa', 'usa', 'usa', 'france', 'usa', 'usa', 'usa', 'usa', 'usa', 'usa', 'usa', 'usa', 'usa', 'usa', 'greece', 'usa', 'usa', 'canada', 'usa', 'usa', 'united kingdom', 'united kingdom', 'canada', 'united kingdom', 'united kingdom', 'united kingdom', 'usa', 'australia', 'usa', 'usa', 'usa', 'usa', 'canada', 'spain', 'hong kong', 'canada', 'usa', 'usa', 'new zealand', 'brazil', 'ireland', 'united kingdom', 'germany', 'usa', 'usa', 'usa', 'usa', 'usa', 'usa', 'usa', 'usa', 'usa', 'spain', 'israel', 'germany', 'usa', 'germany', 'usa', 'usa', 'australia', 'usa', 'switzerland', 'france', 'italy', 'italy', 'spain', 'denmark', 'usa', 'usa', 'brazil', 'spain', 'spain', 'spain', 'japan', 'usa', 'usa', 'usa', 'spain', 'usa', 'usa', 'usa', 'germany', 'usa', 'usa', 'usa', 'italy', 'usa', 'usa', 'usa', 'switzerland', 'usa', 'spain', 'usa', 'united kingdom', 'romania', 'canada', 'spain', 'turkey', 'france', 'portugal', 'usa', 'australia', 'italy', 'argentina', 'australia', 'germany', 'italy', 'usa', 'australia', 'usa', 'usa', 'usa', 'austria', 'usa', 'usa', 'chile', 'usa', 'argentina', 'argentina', 'usa', 'usa', 'usa', 'spain', 'italy', 'italy', 'usa', 'italy', 'mexico', 'canada', 'united kingdom', 'australia', 'usa', 'australia', 'united kingdom', 'united kingdom', 'usa', 'usa', 'united kingdom', 'usa', 'usa', 'usa', 'canada', 'usa', 'usa', 'usa', 'canada', 'usa', 'norway', 'usa', 'spain', 'usa', 'china', 'usa', 'usa', 'usa', 'usa', 'usa', 'canada', 'switzerland', 'usa', 'spain', 'usa', 'usa', 'usa', 'united kingdom', 'usa', 'germany', 'new zealand', 'canada', 'usa', 'usa', 'usa', 'usa', 'usa', 'italy', 'usa', 'italy', 'germany', 'malta', 'usa', 'usa', 'usa', 'italy', 'switzerland', 'italy', 'spain', 'portugal', 'usa', 'usa', 'philippines', 'france', 'spain', 'france', 'usa', 'spain', 'canada', 'germany', 'usa', 'spain', 'usa', 'canada', 'canada', 'malaysia', 'usa', 'usa', 'united kingdom', 'usa', 'australia', 'italy', 'italy', 'usa', 'canada', 'australia', 'united kingdom', 'netherlands', 'usa', 'ireland', 'new zealand', 'usa', 'usa', 'usa', 'spain', 'usa', 'usa', 'usa', 'usa', 'china', 'usa', 'usa', 'usa', 'usa', 'portugal', 'canada', 'usa', 'united kingdom', 'usa', 'usa', 'usa', 'italy', 'usa', 'usa', 'usa', 'usa', 'usa', 'usa', 'usa', 'usa', 'malaysia', 'usa', 'usa', 'canada', 'usa', 'usa', 'space', 'usa', 'usa', 'usa', 'belgium', 'usa', 'usa', 'usa', 'france', 'australia', 'usa', 'usa', 'south korea', 'germany', 'romania', 'malaysia', 'france', 'france', 'italy', 'usa', 'usa', 'usa', 'usa', 'austria', 'usa', 'usa', 'usa', 'usa', 'usa', 'australia', 'united kingdom', 'united kingdom', 'usa', 'usa', 'usa', 'usa', 'canada', 'switzerland', 'australia', 'spain', 'spain', 'usa', 'usa', 'usa', 'usa', 'usa', 'united kingdom', 'united kingdom', 'germany', 'usa', 'usa', 'spain', 'usa', 'rwanda', 'usa', 'usa', 'usa', 'usa', 'usa', 'united kingdom', 'guatemala', 'usa', 'germany', 'usa', 'australia', 'usa', 'usa', 'usa', 'usa', 'usa', 'denmark', 'canada', 'mexico', 'usa', 'usa', 'usa', 'canada', 'usa', 'usa', 'united kingdom', 'usa', 'usa', 'usa', 'canada', 'usa', 'usa', 'usa', 'germany', 'australia', 'switzerland', 'usa', 'usa', 'united kingdom', 'usa', 'usa', 'usa', 'australia', 'usa', 'germany', 'usa', 'united kingdom', 'usa', 'usa', 'usa', 'germany', 'canada', 'ireland', 'usa', 'usa', 'usa', 'usa', 'turkey', 'usa', 'united kingdom', 'france', 'united kingdom', 'usa', 'usa', 'usa', 'usa', 'united kingdom', 'usa', 'usa', 'usa', 'usa', 'usa', 'australia', 'united kingdom', 'usa', 'usa', 'germany', 'usa', 'italy', 'usa', 'spain', 'italy', 'canada', 'usa', 'canada', 'austria', 'canada', 'usa', 'usa', 'usa', 'mexico', 'germany', 'france', 'canada', 'usa', 'canada', 'usa', 'usa', 'germany', 'switzerland', 'spain', 'usa', 'usa', 'australia', 'usa', 'usa', 'canada', 'usa', 'usa', 'usa', 'germany', 'france', 'usa', 'italy', 'usa', 'usa', 'usa', 'spain', 'usa', 'canada', 'usa', 'usa', 'usa', 'usa', 'switzerland', 'usa', 'usa', 'spain', 'usa', 'usa', 'portugal', 'canada', 'usa', 'usa', 'portugal', 'usa', 'usa', 'usa', 'usa', 'usa', 'spain', 'united kingdom', 'usa', 'canada', 'usa', 'usa', 'romania', 'usa', 'germany', 'usa', 'germany', 'usa', 'usa', 'usa', 'germany', 'netherlands', 'usa', 'usa', 'canada', 'usa', 'usa', 'usa', 'canada', 'usa', 'usa', 'germany', 'usa', 'usa', 'usa', 'spain', 'usa', 'germany', 'canada', 'spain', 'usa', 'sweden', 'usa', 'australia', 'usa', 'usa', 'usa', 'usa', 'usa', 'usa', 'usa', 'usa', 'usa', 'usa', 'españa', 'usa', 'canada', 'usa', 'australia', 'new zealand', 'usa', 'usa', 'france', 'usa', 'usa', 'usa', 'usa', 'usa', 'usa', 'spain', 'netherlands', 'usa', 'usa', 'germany', 'usa', 'usa', 'usa', 'spain', 'usa', 'usa', 'usa', 'canada', 'united kingdom', 'usa', 'usa', 'usa', 'canada', 'usa', 'usa', 'usa', 'usa', 'united kingdom', 'canada', 'usa', 'canada', 'usa', 'usa', 'usa', 'usa', 'usa', 'canada', 'usa', 'netherlands', 'united kingdom', 'usa', 'usa', 'germany', 'usa', 'finland', 'spain', 'usa', 'switzerland', 'usa', 'usa', 'united kingdom', 'usa', 'portugal', 'usa', 'usa', 'usa', 'usa', 'usa', 'spain', 'spain', 'canada', 'usa', 'usa', 'usa', 'usa', 'usa', 'usa', 'usa', 'usa', 'germany', 'usa', 'trinidad and tobago', 'usa', 'usa', 'usa', 'croatia', 'usa', 'usa', 'usa', 'usa', 'usa', 'united kingdom', 'usa', 'usa', 'usa', 'usa', 'usa', 'usa', 'usa', 'usa', 'usa', 'netherlands', 'germany', 'usa', 'usa', 'usa', 'usa', 'usa', 'canada', 'slovakia', 'usa', 'usa', 'usa', 'united kingdom', 'usa', 'usa', 'usa', 'usa', 'usa', 'germany', 'usa', 'australia', 'netherlands', 'usa', 'thailand', 'usa', 'usa', 'australia', 'usa', 'poland', 'usa', 'germany', 'usa', 'france', 'bolivia', 'usa', 'canada', 'usa', 'usa', 'usa', 'united kingdom', 'usa', 'usa', 'canada', 'canada', 'canada', 'usa', 'usa', 'germany', 'usa', 'usa', 'germany', 'usa', 'usa', 'usa', 'usa', 'usa', 'usa', 'usa', 'usa', 'usa', 'usa', 'usa', 'australia', 'netherlands', 'usa', 'usa', 'germany', 'usa', 'usa', 'usa', 'usa', 'switzerland', 'usa', 'germany', 'usa', 'usa', 'usa', 'usa', 'usa', 'usa', 'usa', 'usa', 'usa', 'portugal', 'usa', 'usa', 'usa', 'usa', 'usa', 'usa', 'canada', 'usa', 'usa', 'netherlands', 'usa', 'usa', 'usa', 'canada', 'usa', 'usa', 'usa', 'usa', 'usa', 'usa', 'spain', 'canada', 'usa', 'usa', 'usa', 'usa', 'canada', 'usa', 'united kingdom', 'usa', 'usa', 'usa', 'usa', 'usa', 'usa', 'canada', 'usa', 'usa', 'usa', 'canada', 'usa', 'usa', 'usa', 'usa', 'usa', 'usa', 'usa', 'usa', 'usa', 'usa', 'usa', 'usa', 'canada', 'usa', 'usa', 'usa', 'usa', 'usa', 'new zealand', 'netherlands', 'usa', 'usa', 'usa', 'usa', 'usa', 'usa', 'czech republic', 'usa', 'usa', 'france', 'usa', 'switzerland', 'spain', 'mexico', 'usa', 'usa', 'usa', 'australia', 'colombia', 'new zealand', 'spain', 'germany', 'usa', 'germany', 'usa', 'usa', 'malaysia', 'usa', 'switzerland', 'canada', 'usa', 'italy', 'india', 'usa', 'new zealand', 'portugal', 'usa', 'usa', 'usa', 'usa', 'usa', 'usa', 'united kingdom', 'usa', 'singapore', 'usa', 'guatemala', 'spain', 'usa', 'netherlands', 'germany', 'spain', 'germany', 'usa', 'usa', 'united kingdom', 'usa', 'usa', 'germany', 'monaco', 'luxembourg', 'usa', 'spain', 'canada', 'denmark', 'united kingdom', 'china', 'usa', 'usa', 'germany', 'austria', 'greece', 'united kingdom', 'usa', 'usa', 'usa', 'usa', 'usa', 'france', 'germany', 'samoa', 'germany', 'usa', 'germany', 'usa', 'usa', 'usa', 'australia', 'australia', 'mexico', 'usa', 'usa', 'usa', 'usa', 'usa', 'australia', 'portugal', 'spain', 'spain', 'spain', 'colombia', 'united kingdom', 'usa', 'spain', 'new zealand', 'ireland', 'usa', 'united kingdom', 'united kingdom', 'brazil', 'usa', 'usa', 'usa', 'usa', 'usa', 'usa', 'usa', 'usa', 'usa', 'united kingdom', 'usa', 'germany', 'united kingdom', 'usa', 'usa', 'canada', 'usa', 'united kingdom', 'usa', 'mexico', 'united kingdom', 'germany', 'usa', 'united kingdom', 'australia', 'switzerland', 'united kingdom', 'united kingdom', 'turkey', 'trinidad and tobago', 'usa', 'españa', 'usa', 'germany', 'france', 'germany', 'usa', 'usa', 'united kingdom', 'usa', 'usa', 'usa', 'france', 'united kingdom', 'usa', 'france', 'australia', 'bermuda', 'usa', 'united kingdom', 'usa', 'usa', 'canada', 'united kingdom', 'usa', 'usa', 'usa', 'usa', 'united kingdom', 'usa', 'usa', 'usa', 'usa', 'usa', 'usa', 'usa', 'united kingdom', 'usa', 'usa', 'usa', 'usa', 'usa', 'usa', 'usa', 'usa', 'usa', 'canada', 'usa', 'usa', 'australia', 'canada', 'usa', 'usa', 'usa', 'usa', 'usa', 'canada', 'usa', 'usa', 'usa', 'usa', 'usa', 'usa', 'germany', 'usa', 'usa', 'usa', 'usa', 'usa', 'usa', 'usa', 'usa', 'usa', 'united kingdom', 'philippines', 'usa', 'usa', 'usa', 'usa', 'france', 'usa', 'usa', 'canada', 'usa', 'usa', 'usa', 'usa', 'usa', 'germany', 'usa', 'usa', 'usa', 'usa', 'usa', 'usa', 'malaysia', 'usa', 'usa', 'spain', 'canada', 'spain', 'usa', 'germany', 'usa', 'usa', 'usa', 'usa', 'australia', 'united kingdom', 'usa', 'canada', 'usa', 'usa', 'usa', 'england', 'united kingdom', 'germany', 'usa', 'germany', 'usa', 'usa', 'usa', 'germany', 'usa', 'jersey', 'canada', 'usa', 'usa', 'usa', 'usa', 'usa', 'australia', 'usa', 'usa', 'usa', 'australia', 'united kingdom', 'usa', 'australia', 'usa', 'usa', 'usa', 'usa', 'argentina', 'usa', 'spain', 'slovakia', 'usa', 'usa', 'usa', 'italy', 'spain', 'usa', 'usa', 'usa', 'canada', 'usa', 'portugal', 'new zealand', 'usa', 'south korea', 'usa', 'usa', 'usa', 'usa', 'switzerland', 'usa', 'united kingdom', 'china', 'usa', 'germany', 'usa', 'usa', 'united kingdom', 'germany', 'germany', 'netherlands', 'usa', 'usa', 'australia', 'united kingdom', 'spain', 'germany', 'germany', 'spain', 'germany', 'germany', 'spain', 'france', 'usa', 'usa', 'malaysia', 'australia', 'canada', 'united kingdom', 'canada', 'usa', 'usa', 'switzerland', 'france', 'finland', 'germany', 'austria', 'germany', 'usa', 'usa', 'new zealand', 'spain', 'switzerland', 'usa', 'netherlands', 'usa', 'germany', 'usa', 'usa', 'usa', 'usa', 'usa', 'netherlands\"', 'canada', 'usa', 'israel', 'germany', 'germany', 'usa', 'usa', 'usa', 'italy', 'usa', 'usa', 'sweden', 'united kingdom', 'usa', 'usa', 'usa', 'usa', 'usa', 'usa', 'usa', 'germany', 'usa', 'ireland', 'usa', 'usa', 'usa', 'usa', 'germany', 'usa', 'usa', 'sweden', 'united kingdom', 'usa', 'usa', 'new zealand', 'germany', 'germany', 'france', 'usa', 'malaysia', 'usa', 'germany', 'usa', 'usa', 'netherlands', 'united kingdom', 'sweden', 'finland', 'usa', 'usa', 'germany', 'ireland', 'usa', 'netherlands', 'united kingdom', 'usa', 'denmark', 'netherlands', 'netherlands', 'usa', 'usa', 'usa', 'usa', 'netherlands', 'usa', 'france', 'usa', 'usa', 'usa', 'canada', 'usa', 'usa', 'usa', 'spain', 'usa', 'usa', 'usa', 'usa', 'usa', 'usa', 'australia', 'usa', 'usa', 'usa', 'new zealand', 'usa', 'usa', 'usa', 'usa', 'canada', 'usa', 'usa', 'usa', 'usa', 'usa', 'usa', 'usa', 'usa', 'united kingdom', 'usa', 'usa', 'united kingdom', 'usa', 'usa', 'australia', 'usa', 'usa', 'usa', 'usa', 'usa', 'usa', 'usa', 'netherlands', 'australia', 'sweden', 'germany', 'usa', 'austria', 'usa', 'usa', 'usa', 'usa', 'canada', 'usa', 'ireland', 'usa', 'usa', 'usa', 'japan', 'usa', 'canada', 'usa', 'united kingdom', 'usa', 'belgium', 'usa', 'usa', 'united kingdom', 'canada', 'germany', 'usa', 'usa', 'usa', 'usa', 'usa', 'usa', 'spain', 'india', 'united kingdom', 'usa', 'italy', 'usa', 'usa', 'finland', 'australia', 'usa', 'spain', 'singapore', 'france', 'united kingdom', 'usa', 'united kingdom', 'united kingdom', 'canada', 'usa', 'usa', 'portugal', 'usa', 'usa', 'germany', 'usa', 'usa', 'australia', 'france', 'israel', 'switzerland\"', 'usa', 'spain', 'canada', 'germany', 'australia', 'philippines', 'italy', 'united kingdom', 'usa', 'usa', 'germany', 'australia', 'usa', 'ghana', 'spain', 'usa', 'spain', 'spain', 'usa', 'philippines', 'usa', 'germany', 'usa', 'usa', 'usa', 'usa', 'australia', 'germany', 'usa', 'usa', 'spain', 'belgium', 'usa', 'usa', 'usa', 'usa', 'usa', 'france', 'usa', 'usa', 'usa', 'usa', 'spain', 'united kingdom', 'usa', 'usa', 'italy', 'belgium', 'usa', 'italy', 'usa', 'usa', 'usa', 'usa', 'spain', 'usa', 'usa', 'australia', 'canada', 'usa', 'usa', 'germany', 'germany', 'canada', 'netherlands', 'canada', 'usa', 'usa', 'spain', 'usa', 'usa', 'netherlands', 'united kingdom', 'usa', 'usa', 'malaysia', 'usa', 'usa', 'usa', 'usa', 'usa', 'germany', 'usa', 'australia', 'usa', 'usa', 'new zealand', 'canada', 'usa', 'usa', 'spain', 'united kingdom', 'usa', 'usa', 'united kingdom', 'usa', 'usa', 'usa', 'usa', 'usa', 'usa', 'usa', 'usa', 'usa', 'usa', 'united kingdom', 'usa', 'finland', 'usa', 'usa', 'usa', 'usa', 'usa', 'canada', 'new zealand', 'usa', 'usa', 'canada', 'australia', 'united kingdom', 'usa', 'usa', 'spain', 'spain', 'usa', 'usa', 'usa', 'india', 'usa', 'canada', 'usa', 'usa', 'usa', 'usa', 'japan', 'singapore', 'usa', 'usa', 'india', 'australia', 'spain', 'usa', 'usa', 'spain', 'spain', 'canada', 'germany', 'usa', 'germany', 'canada', 'usa', 'canada', 'usa', 'italy', 'usa', 'germany', 'usa', 'usa', 'usa', 'usa', 'usa', 'canada', 'usa', 'united kingdom', 'switzerland', 'italy', 'germany', 'spain', 'greece', 'canada', 'canada', 'usa', 'canada', 'usa', 'usa', 'usa', 'usa', 'italy', 'usa', 'united kingdom', 'usa', 'usa', 'usa', 'usa', 'spain', 'usa', 'usa', 'australia', 'spain', 'new zealand', 'usa', 'germany', 'united kingdom', 'italy', 'usa', 'austria', 'usa', 'usa', 'united kingdom', 'usa', 'germany', 'usa', 'chile', 'usa', 'united kingdom', 'usa', 'usa', 'usa', 'netherlands', 'usa', 'usa', 'usa', 'netherlands', 'qatar', 'germany', 'united kingdom', 'usa', 'usa', 'germany', 'mexico', 'greece', 'usa', 'spain', 'usa', 'slovenia', 'italy', 'u.s. of a.', 'usa', 'australia', 'usa', 'usa', 'usa', 'usa', 'italy', 'usa', 'usa', 'finland', 'usa', 'usa', 'france', 'usa', 'usa', 'usa', 'canada', 'usa', 'usa', 'usa', 'switzerland', 'usa', 'usa', 'france', 'usa', 'united kingdom', 'usa', 'usa', 'usa', 'usa', 'australia', 'usa', 'germany', 'usa', 'usa', 'italy', 'usa', 'austria', 'germany', 'australia', 'usa', 'usa', 'usa', 'usa', 'usa', 'new zealand', 'catalunya', 'france', 'canada', 'usa', 'usa', 'germany', 'usa', 'usa', 'sweden', 'united kingdom', 'canada', 'australia', 'usa', 'usa', 'usa', 'italy', 'usa', 'usa', 'usa', 'usa', 'spain', 'canada', 'usa', 'usa', 'usa', 'usa', 'spain', 'spain', 'usa', 'usa', 'usa', 'spain', 'usa', 'usa', 'germany', 'italy', 'albania', 'spain', 'spain', 'usa', 'usa', 'usa', 'usa', 'australia', 'usa', 'usa', 'canada', 'canada', 'usa', 'usa', 'canada', 'usa', 'united kingdom', 'usa', 'usa', 'usa', 'usa', 'united kingdom', 'usa', 'usa', 'usa', 'usa', 'portugal', 'usa', 'germany', 'usa', 'canada', 'canada', 'usa', 'usa', 'usa', 'usa', 'usa', 'usa', 'usa', 'usa', 'italy', 'united kingdom', 'spain', 'belgium', 'spain', 'canada', 'united kingdom', 'usa', 'usa', 'germany', 'singapore', 'spain', 'canada', 'usa', 'italy', 'usa', 'usa', 'usa', 'germany', 'usa', 'spain', 'spain', 'germany', 'usa', 'usa', 'moldova', 'usa', 'usa', 'australia', 'spain', 'usa', 'france', 'usa', 'usa', 'germany', 'usa', 'usa', 'new zealand', 'usa', 'usa', 'usa', 'usa', 'usa', 'usa', 'usa', 'usa', 'canada', 'usa', 'united kingdom', 'usa', 'usa', 'usa', 'usa', 'australia', 'usa', 'usa', 'germany', 'new zealand', 'usa', 'usa', 'usa', 'japan', 'usa', 'españa', 'germany', 'germany', 'usa', 'spain', 'usa', 'norway', 'usa', 'usa', 'usa', 'portugal', 'usa', 'canada', 'usa', 'usa', 'usa', 'usa', 'usa', 'usa', 'germany', 'philippines', 'usa', 'usa', 'czech republic', 'usa', 'spain', 'spain', 'germany', 'usa', 'usa', 'usa', 'usa', 'spain', 'usa', 'greece', 'spain', 'usa', 'usa', 'germany', 'italy', 'usa', 'usa', 'ireland', 'france', 'usa', 'usa', 'usa', 'usa', 'usa', 'usa', 'usa', 'germany', 'germany', 'usa', 'usa', 'spain', 'spain', 'usa', 'usa', 'canada', 'usa', 'canada', 'usa', 'germany', 'brunei', 'italy', 'germany', 'united kingdom', 'usa', 'usa', 'usa', 'germany', 'usa', 'usa', 'nigeria', 'usa', 'malaysia', 'united kingdom', 'usa', 'spain', 'usa', 'spain', 'usa', 'usa', 'ireland', 'usa', 'switzerland', 'usa', 'belgium', 'usa', 'usa', 'spain', 'usa', 'italy', 'portugal', 'usa', 'tanzania', 'usa', 'usa', 'usa', 'usa', 'usa', 'canada', 'usa', 'catalunya', 'usa', 'usa', 'usa', 'usa', 'usa', 'new zealand', 'usa', 'italy', 'united kingdom', 'usa', 'usa', 'usa', 'netherlands', 'usa', 'usa', 'usa', 'usa', 'france', 'usa', 'canada', 'deutschland', 'brazil', 'germany', 'spain', 'usa', 'usa', 'usa', 'usa', 'usa', 'usa', 'usa', 'usa', 'usa', 'usa', 'usa', 'canada', 'usa', 'usa', 'australia', 'united kingdom', 'usa', 'canada', 'usa', 'usa', 'canada', 'australia', 'usa', 'usa', 'united kingdom', 'usa', 'usa', 'usa', 'usa', 'usa', 'usa', 'usa', 'usa', 'usa', 'usa', 'usa', 'usa', 'malaysia', 'usa', 'australia', 'usa', 'germany', 'usa', 'france', 'usa', 'germany', 'usa', 'usa', 'canada', 'usa', 'usa', 'canada', 'japan', 'usa', 'usa', 'italy', 'united kingdom', 'usa', 'france', 'france', 'usa', 'usa', 'australia', 'germany', 'australia', 'usa', 'australia', 'australia', 'australia', 'usa', 'australia', 'usa', 'australia', 'australia', 'australia', 'canada', 'australia', 'spain', 'usa', 'austria', 'canada', 'usa', 'usa', 'canada', 'usa', 'usa', 'canada', 'usa', 'usa', 'usa', 'usa', 'usa', 'usa', 'usa', 'usa', 'malaysia', 'usa', 'canada', 'usa', 'usa', 'canada', 'germany', 'usa', 'usa', 'new zealand', 'usa', 'usa', 'usa', 'usa', 'usa', 'usa', 'usa', 'spain', 'usa', 'usa', 'spain', 'spain', 'spain', 'philippines', 'canada', 'australia', 'canada', 'ireland', 'canada', 'usa', 'germany', 'usa', 'usa', 'usa', 'usa', 'usa', 'usa', 'usa', 'usa', 'usa', 'usa', 'canada', 'usa', 'usa', 'usa', 'usa', 'usa', 'england', 'usa', 'usa', 'usa', 'new zealand', 'germany', 'usa', 'australia', 'usa', 'usa', 'usa', 'canada', 'canada', 'usa', 'canada', 'united kingdom', 'india', 'usa', 'usa', 'usa', 'united kingdom', 'usa', 'usa', 'usa', 'france', 'usa', 'usa', 'usa', 'united kingdom', 'usa', 'usa', 'australia', 'mexico', 'denmark', 'usa', 'spain', 'canada', 'france', 'germany', 'netherlands', 'australia', 'usa', 'united kingdom', 'usa', 'germany', 'spain', 'usa', 'usa', 'usa', 'usa', 'usa', 'united kingdom', 'spain', 'united kingdom', 'spain', 'philippines', 'united kingdom', 'usa', 'usa', 'usa', 'usa', 'usa', 'usa', 'spain', 'usa', 'usa', 'usa', 'usa', 'portugal', 'usa', 'usa', 'spain', 'costa rica', 'usa', 'argentina', 'germany', 'usa', 'france', 'malaysia', 'usa', 'united kingdom', 'canada', 'usa', 'usa', 'usa', 'usa', 'usa', 'usa', 'usa', 'usa', 'usa', 'usa', 'usa', 'italy', 'usa', 'usa', 'usa', 'usa', 'usa', 'italy', 'usa', 'usa', 'new zealand', 'united kingdom', 'germany', 'usa', 'usa', 'usa', 'usa', 'usa', 'switzerland', 'usa', 'united kingdom', 'germany', 'italy', 'usa', 'usa', 'usa', 'usa', 'germany', 'canada', 'usa', 'australia', 'canada', 'usa', 'usa', 'canada', 'france', 'usa', 'canada', 'usa', 'usa', 'france', 'usa', 'portugal', 'united kingdom', 'usa', 'france', 'france', 'germany', 'usa', 'usa', 'germany', 'germany', 'usa', 'canada', 'usa', 'usa', 'usa', 'germany', 'germany', 'usa', 'usa', 'usa', 'usa', 'usa', 'united kingdom', 'usa', 'usa', 'switzerland', 'usa', 'usa', 'canada', 'germany', 'usa', 'malaysia', 'usa', 'usa', 'usa', 'usa', 'usa', 'usa', 'usa', 'usa', 'iceland', 'usa', 'usa', 'usa', 'usa', 'usa', 'usa', 'usa', 'malaysia', 'usa', 'usa', 'usa', 'france', 'canada', 'usa', 'usa', 'usa', 'philippines', 'usa', 'usa', 'usa', 'germany', 'united kingdom', 'andorra', 'usa', 'usa', 'usa', 'usa', 'france', 'usa', 'italy', 'belgium', 'usa', 'usa', 'usa', 'brazil', 'canada', 'usa', 'usa', 'ireland', 'usa', 'usa', 'canada', 'usa', 'usa', 'usa', 'usa', 'usa', 'usa', 'france', 'canada', 'spain', 'france', 'spain', 'usa', 'usa', 'new zealand', 'germany', 'switzerland', 'germany', 'germany', 'denmark', 'usa', 'usa', 'usa', 'france', 'usa', 'usa', 'canada', 'france', 'belgium', 'usa', 'usa', 'iran', 'usa', 'usa', 'usa', 'usa', 'usa', 'finland\"', 'usa', 'usa', 'usa', 'usa', 'usa', 'usa', 'usa', 'usa', 'usa', 'canada', 'usa', 'usa', 'usa', 'usa', 'usa', 'netherlands', 'united kingdom', 'usa', 'united kingdom', 'usa', 'usa', 'usa', 'usa', 'mexico', 'germany', 'usa', 'germany', 'usa', 'spain', 'usa', 'usa', 'usa', 'germany', 'usa', 'south africa', 'canada', 'italy', 'usa', 'usa', 'usa', 'canada', 'australia', 'united kingdom', 'usa', 'usa', 'germany', 'switzerland', 'usa', 'usa', 'usa', 'usa', 'usa', 'usa', 'united kingdom', 'usa', 'canada', 'usa', 'netherlands', 'new zealand', 'australia', 'usa', 'germany', 'usa', 'israel', 'japan', 'germany', 'usa', 'usa', 'united kingdom', 'united kingdom', 'canada', 'australia', 'usa', 'spain', 'south korea', 'usa', 'usa', 'usa', 'usa', 'germany', 'canada', 'usa', 'usa', 'switzerland', 'italy', 'portugal', 'usa', 'usa', 'usa', 'canada', 'usa', 'united kingdom', 'united kingdom', 'switzerland', 'usa', 'united kingdom', 'italy', 'france', 'usa', 'usa', 'usa', 'usa', 'usa', 'usa', 'usa', 'usa', 'usa', 'usa', 'germany', 'usa', 'usa', 'usa', 'usa', 'usa', 'usa', 'usa', 'belgium', 'usa', 'italy', 'usa', 'usa', 'usa', 'usa', 'usa', 'usa', 'usa', 'usa', 'usa', 'usa', 'usa', 'usa', 'usa', 'usa', 'japan', 'usa', 'usa', 'germany', 'usa', 'usa', 'usa', 'usa', 'usa', 'united kingdom', 'usa', 'germany', 'usa', 'usa', 'spain', 'usa', 'usa', 'usa', 'usa', 'usa', 'usa', 'usa', 'germany', 'usa', 'italy', 'usa', 'usa', 'usa', 'usa', 'australia', 'usa', 'australia', 'new zealand', 'united kingdom', 'usa', 'usa', 'germany', 'usa', 'usa', 'usa', 'germany', 'usa', 'usa', 'usa', 'usa', 'canada', 'spain', 'usa', 'mexico', 'usa', 'usa', 'usa', 'new zealand', 'australia', 'germany', 'usa', 'united kingdom', 'germany', 'usa', 'usa', 'united kingdom', 'usa', 'united kingdom', 'usa', 'usa', 'usa', 'united kingdom', 'usa', 'germany', 'mexico', 'france', 'austria', 'germany', 'united kingdom', 'finland', 'germany', 'tdzimi', 'usa', 'australia', 'usa', 'usa', 'usa', 'usa', 'usa', 'usa', 'united kingdom', 'usa', 'usa', 'usa', 'germany', 'usa', 'australia', 'spain', 'germany', 'usa', 'usa', 'morocco', 'usa', 'usa', 'usa', 'germany', 'usa', 'france', 'usa', 'usa', 'germany', 'germany', 'usa', 'usa', 'usa', 'bahamas', 'switzerland\"', 'usa', 'usa', 'usa', 'usa', 'usa', 'india', 'canada', 'usa', 'usa', 'usa', 'usa', 'usa', 'usa', 'usa', 'usa', 'united kingdom', 'new zealand', 'usa', 'usa', 'usa', 'usa', 'canada', 'usa', 'germany', 'usa', 'usa', 'usa', 'usa', 'usa', 'usa', 'lleida', 'usa', 'usa', 'usa', 'spain', 'usa', 'usa', 'germany', 'usa', 'usa', 'usa', 'usa', 'australia', 'usa', 'usa', 'usa', 'usa', 'usa', 'usa', 'usa', 'usa', 'usa', 'germany', 'germany', 'germany', 'germany', 'germany', 'germany', 'germany', 'usa', 'canada', 'italy', 'usa', 'usa', 'usa', 'usa', 'usa', 'usa', 'usa', 'united kingdom', 'canada', 'united kingdom', 'usa', 'usa', 'united kingdom', 'usa', 'usa', 'usa', 'germany', 'usa', 'usa', 'usa', 'usa', 'usa', 'usa', 'usa', 'usa', 'usa', 'usa', 'usa', 'usa', 'usa', 'usa', 'usa', 'usa', 'usa', 'usa', 'usa', 'singapore', 'usa', 'usa', 'usa', 'spain', 'usa', 'usa', 'usa', 'usa', 'united kingdom', 'usa', 'usa', 'usa', 'usa', 'spain', 'usa', 'united kingdom', 'usa', 'usa', 'usa', 'united kingdom', 'usa', 'usa', 'usa', 'usa', 'usa', 'usa', 'usa', 'usa', 'usa', 'usa', 'usa', 'usa', 'united kingdom', 'usa', 'usa', 'usa', 'usa', 'usa', 'usa', 'usa', 'new zealand', 'germany', 'usa', 'usa', 'usa', 'united kingdom', 'usa', 'usa', 'united kingdom', 'usa', 'usa', 'usa', 'usa', 'usa', 'usa', 'usa', 'usa', 'usa', 'usa', 'usa', 'usa', 'usa', 'usa', 'united kingdom', 'china', 'italy', 'usa', 'usa', 'usa', 'netherlands', 'usa', 'usa', 'usa', 'united kingdom', 'switzerland', 'usa', 'usa', 'usa', 'china', 'usa', 'usa', 'united kingdom', 'united kingdom', 'italy', 'germany', 'australia', 'usa', 'canada', 'usa', 'usa', 'usa', 'usa', 'usa', 'usa', 'usa', 'usa', 'usa', 'united kingdom', 'united kingdom', 'usa', 'usa', 'greece', 'united kingdom', 'usa', 'italy', 'usa', 'united kingdom', 'usa', 'usa', 'usa', 'usa', 'usa', 'united kingdom', 'usa', 'australia', 'usa', 'usa', 'germany', 'usa', 'usa', 'usa', 'usa', 'australia', 'usa', 'usa', 'usa', 'new zealand', 'australia', 'usa', 'usa', 'usa', 'usa', 'usa', 'usa', 'usa', 'usa', 'france', 'united kingdom', 'australia', 'u.s.a.', 'canada', 'usa', 'canada', 'usa', 'usa', 'spain', 'united kingdom', 'canada', 'usa', 'spain', 'usa', 'hungary', 'austria', 'usa', 'india', 'usa', 'usa', 'usa', 'canada', 'usa', 'portugal', 'usa', 'usa', 'palau', 'spain', 'spain', 'belgium', 'canada', 'germany', 'usa', 'canada', 'spain', 'canada', 'usa', 'usa', 'italy', 'usa', 'usa', 'usa', 'usa', 'spain', 'ireland', 'france', 'usa', 'usa', 'usa', 'usa', 'usa', 'united kingdom', 'united kingdom', 'usa', 'usa', 'canada', 'usa', 'sweden', 'france', 'usa', 'usa', 'usa', 'usa', 'usa', 'finland', 'spain', 'united kingdom', 'usa', 'france', 'germany', 'germany', 'usa', 'canada', 'canada', 'usa', 'usa', 'canada', 'canada', 'usa', 'spain', 'united kingdom', 'canada', 'germany', 'usa', 'usa', 'usa', 'germany', 'netherlands', 'australia', 'usa', 'italy', 'germany', 'canada', 'united kingdom', 'uruguay', 'usa', 'usa', 'united kingdom', 'usa', 'germany', 'usa', 'usa', 'usa', 'usa', 'usa', 'usa', 'usa', 'canada', 'usa', 'usa', 'united kingdom', 'usa', 'usa', 'usa', 'italy', 'france', 'united kingdom', 'canada', 'usa', 'portugal', 'germany', 'italy', 'usa', 'usa', 'usa', 'spain', 'malaysia', 'turkey', 'usa', 'canada', 'usa', 'germany', 'usa', 'bermuda', 'bermuda', 'canada', 'netherlands', 'germany', 'new zealand', 'usa', 'usa', 'usa', 'canada']\n"
     ]
    }
   ],
   "source": [
    "m=list(data_combine['Location'].unique())\n",
    "loc=[]\n",
    "for i in m:\n",
    "    country=i.split(',')\n",
    "    if country[-1]=='':\n",
    "        continue\n",
    "    loc.append(country[-1].lstrip())\n",
    "print(loc)"
   ]
  },
  {
   "cell_type": "code",
   "execution_count": 129,
   "metadata": {
    "scrolled": false
   },
   "outputs": [
    {
     "name": "stdout",
     "output_type": "stream",
     "text": [
      "{'usa': 2252, 'germany': 228, 'canada': 225, 'united kingdom': 200, 'spain': 155, 'australia': 108, 'italy': 80, 'france': 71, 'netherlands': 36, 'new zealand': 34}\n"
     ]
    },
    {
     "data": {
      "image/png": "[encoded data removed]",
      "text/plain": [
       "<Figure size 720x648 with 1 Axes>"
      ]
     },
     "metadata": {},
     "output_type": "display_data"
    }
   ],
   "source": [
    "d={}\n",
    "for country in loc:\n",
    "    d[country]=d.get(country,0)+1\n",
    "\n",
    "d=sorted(d.items(), key=lambda x:x[1],reverse=True)\n",
    "d=d[:10]\n",
    "country_dict = dict(d)\n",
    "print(country_dict)\n",
    "\n",
    "x=list(country_dict.keys())\n",
    "y=list(country_dict.values())\n",
    "plt.figure(figsize=(10,9))\n",
    "plt.bar(x,y,color='orange')\n",
    "plt.xlabel(\"Countries\",fontsize=16)\n",
    "plt.ylabel(\"Population\",fontsize=16)\n",
    "plt.show()"
   ]
  },
  {
   "cell_type": "markdown",
   "metadata": {},
   "source": [
    "### Conclusion:\n",
    "\n",
    "**The following observations and conclusions have been made through various analysis and visualizations performed in this project:**\n",
    "\n",
    "- The top 3 most prolific authors are Stephen King, Nora Roberts and John Grisham.\n",
    "\n",
    "- The most popular novels/books are The Secret Life of Bees, The Da Vinci Code and The Lovely Bones.\n",
    "\n",
    "- The Year in which highest number of book have been published is 2002 and the Publisher with highest number of publications is \"Ballantine Books\".\n",
    "\n",
    "- The top 5 countries where most of the users who are indulge in reading are USA, Canada, germany, united kingdom and spain."
   ]
  },
  {
   "cell_type": "code",
   "execution_count": null,
   "metadata": {},
   "outputs": [],
   "source": []
  }
 ],
 "metadata": {
  "kernelspec": {
   "display_name": "Python 3",
   "language": "python",
   "name": "python3"
  },
  "language_info": {
   "codemirror_mode": {
    "name": "ipython",
    "version": 3
   },
   "file_extension": ".py",
   "mimetype": "text/x-python",
   "name": "python",
   "nbconvert_exporter": "python",
   "pygments_lexer": "ipython3",
   "version": "3.8.5"
  }
 },
 "nbformat": 4,
 "nbformat_minor": 4
}
