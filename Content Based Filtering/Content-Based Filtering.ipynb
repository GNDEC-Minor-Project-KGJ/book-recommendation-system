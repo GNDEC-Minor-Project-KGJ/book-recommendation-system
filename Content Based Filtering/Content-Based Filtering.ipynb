{
 "cells": [
  {
   "cell_type": "markdown",
   "id": "bf6b54b2",
   "metadata": {},
   "source": [
    "# Book Recommendation System (Content Based Filtering)\n",
    "\n",
    "\n",
    "## Minor Project\n",
    "\n",
    "\n",
    "BACHELOR OF TECHNOLOGY\\\n",
    "Computer Science and Engineering\\\n",
    "2019-2023\n",
    "\n",
    "## Team\n",
    "1. Konark Lohat\n",
    "2. Gautam Jain\n",
    "3. Jaskamal Singh"
   ]
  },
  {
   "cell_type": "markdown",
   "id": "beffff59",
   "metadata": {},
   "source": [
    "# Importing necessary packages"
   ]
  },
  {
   "cell_type": "code",
   "execution_count": 45,
   "id": "a4eb2c0e",
   "metadata": {},
   "outputs": [],
   "source": [
    "import pandas as pd\n",
    "import numpy as np\n",
    "\n",
    "# Graphic plotting\n",
    "import matplotlib.pyplot as plt\n",
    "%matplotlib inline\n",
    "\n",
    "# Natural language tool kit\n",
    "from nltk.corpus import stopwords\n",
    "\n",
    "# Vectorizing\n",
    "from sklearn.metrics.pairwise import linear_kernel\n",
    "from sklearn.feature_extraction.text import CountVectorizer\n",
    "from sklearn.feature_extraction.text import TfidfVectorizer\n",
    "from nltk.tokenize import RegexpTokenizer\n",
    "import re\n",
    "import string\n",
    "import random\n",
    "\n",
    "# For recommendation\n",
    "from sklearn.metrics.pairwise import cosine_similarity\n",
    "from gensim.models import Word2Vec\n",
    "from gensim.models.phrases import Phrases, Phraser\n",
    "from matplotlib import pyplot\n",
    "from gensim.models import KeyedVectors\n",
    "\n",
    "# Serialization\n",
    "import pickle"
   ]
  },
  {
   "cell_type": "code",
   "execution_count": 46,
   "id": "ce1a7063",
   "metadata": {},
   "outputs": [
    {
     "data": {
      "text/html": [
       "<div>\n",
       "<style scoped>\n",
       "    .dataframe tbody tr th:only-of-type {\n",
       "        vertical-align: middle;\n",
       "    }\n",
       "\n",
       "    .dataframe tbody tr th {\n",
       "        vertical-align: top;\n",
       "    }\n",
       "\n",
       "    .dataframe thead th {\n",
       "        text-align: right;\n",
       "    }\n",
       "</style>\n",
       "<table border=\"1\" class=\"dataframe\">\n",
       "  <thead>\n",
       "    <tr style=\"text-align: right;\">\n",
       "      <th></th>\n",
       "      <th>Desc</th>\n",
       "      <th>author</th>\n",
       "      <th>genre</th>\n",
       "      <th>url</th>\n",
       "      <th>rating</th>\n",
       "      <th>title</th>\n",
       "    </tr>\n",
       "  </thead>\n",
       "  <tbody>\n",
       "    <tr>\n",
       "      <th>0</th>\n",
       "      <td>We know that power is shifting: From West to E...</td>\n",
       "      <td>Moisés Naím</td>\n",
       "      <td>Business</td>\n",
       "      <td>https://i.gr-assets.com/images/S/compressed.ph...</td>\n",
       "      <td>3.63</td>\n",
       "      <td>The End of Power: From Boardrooms to Battlefie...</td>\n",
       "    </tr>\n",
       "    <tr>\n",
       "      <th>1</th>\n",
       "      <td>Following the success of The Accidental Billio...</td>\n",
       "      <td>Blake J. Harris</td>\n",
       "      <td>Business</td>\n",
       "      <td>https://i.gr-assets.com/images/S/compressed.ph...</td>\n",
       "      <td>3.94</td>\n",
       "      <td>Console Wars: Sega, Nintendo, and the Battle t...</td>\n",
       "    </tr>\n",
       "    <tr>\n",
       "      <th>2</th>\n",
       "      <td>How to tap the power of social software and ne...</td>\n",
       "      <td>Chris Brogan</td>\n",
       "      <td>Business</td>\n",
       "      <td>https://i.gr-assets.com/images/S/compressed.ph...</td>\n",
       "      <td>3.78</td>\n",
       "      <td>Trust Agents: Using the Web to Build Influence...</td>\n",
       "    </tr>\n",
       "    <tr>\n",
       "      <th>3</th>\n",
       "      <td>William J. Bernstein is an American financial ...</td>\n",
       "      <td>William J. Bernstein</td>\n",
       "      <td>Business</td>\n",
       "      <td>https://i.gr-assets.com/images/S/compressed.ph...</td>\n",
       "      <td>4.20</td>\n",
       "      <td>The Four Pillars of Investing</td>\n",
       "    </tr>\n",
       "    <tr>\n",
       "      <th>4</th>\n",
       "      <td>Amazing book. And I joined Steve Jobs and many...</td>\n",
       "      <td>Akio Morita</td>\n",
       "      <td>Business</td>\n",
       "      <td>https://i.gr-assets.com/images/S/compressed.ph...</td>\n",
       "      <td>4.05</td>\n",
       "      <td>Made in Japan: Akio Morita and Sony</td>\n",
       "    </tr>\n",
       "  </tbody>\n",
       "</table>\n",
       "</div>"
      ],
      "text/plain": [
       "                                                Desc                author  \\\n",
       "0  We know that power is shifting: From West to E...           Moisés Naím   \n",
       "1  Following the success of The Accidental Billio...       Blake J. Harris   \n",
       "2  How to tap the power of social software and ne...          Chris Brogan   \n",
       "3  William J. Bernstein is an American financial ...  William J. Bernstein   \n",
       "4  Amazing book. And I joined Steve Jobs and many...           Akio Morita   \n",
       "\n",
       "      genre                                                url  rating  \\\n",
       "0  Business  https://i.gr-assets.com/images/S/compressed.ph...    3.63   \n",
       "1  Business  https://i.gr-assets.com/images/S/compressed.ph...    3.94   \n",
       "2  Business  https://i.gr-assets.com/images/S/compressed.ph...    3.78   \n",
       "3  Business  https://i.gr-assets.com/images/S/compressed.ph...    4.20   \n",
       "4  Business  https://i.gr-assets.com/images/S/compressed.ph...    4.05   \n",
       "\n",
       "                                               title  \n",
       "0  The End of Power: From Boardrooms to Battlefie...  \n",
       "1  Console Wars: Sega, Nintendo, and the Battle t...  \n",
       "2  Trust Agents: Using the Web to Build Influence...  \n",
       "3                      The Four Pillars of Investing  \n",
       "4                Made in Japan: Akio Morita and Sony  "
      ]
     },
     "execution_count": 46,
     "metadata": {},
     "output_type": "execute_result"
    }
   ],
   "source": [
    "# Books dataset\n",
    "books = pd.read_csv('../data/GR-Books.csv')\n",
    "books.columns = ['Desc', 'unamed', 'author', 'genre', 'url', 'rating', 'title']\n",
    "\n",
    "# Dropping the unnamed column\n",
    "books.drop('unamed', inplace=True, axis=1)\n",
    "\n",
    "books.head()"
   ]
  },
  {
   "cell_type": "markdown",
   "id": "3f506b45",
   "metadata": {},
   "source": [
    "# Word Count Distribution"
   ]
  },
  {
   "cell_type": "code",
   "execution_count": 47,
   "id": "ecddacbf",
   "metadata": {},
   "outputs": [
    {
     "data": {
      "text/plain": [
       "<AxesSubplot:title={'center':'Word count distribution for book descriptions'}, ylabel='Frequency'>"
      ]
     },
     "execution_count": 47,
     "metadata": {},
     "output_type": "execute_result"
    },
    {
     "data": {
      "image/png": "[encoded data removed]",
      "text/plain": [
       "<Figure size 864x576 with 1 Axes>"
      ]
     },
     "metadata": {
      "needs_background": "light"
     },
     "output_type": "display_data"
    }
   ],
   "source": [
    "books[\"word_count\"] = books['Desc'].apply(lambda x: len(str(x).split()))\n",
    "\n",
    "books['word_count'].plot(\n",
    "    kind=\"hist\",\n",
    "    bins=50,\n",
    "    figsize = (12, 8),\n",
    "    title=\"Word count distribution for book descriptions\"\n",
    ")"
   ]
  },
  {
   "cell_type": "code",
   "execution_count": 48,
   "id": "2ce32f08",
   "metadata": {},
   "outputs": [
    {
     "name": "stdout",
     "output_type": "stream",
     "text": [
      "       word  pos\n",
      "0         0   CD\n",
      "1        We  PRP\n",
      "2      know  VBP\n",
      "3      that   DT\n",
      "4     power   NN\n",
      "..      ...  ...\n",
      "98     Desc  NNP\n",
      "99   Length  NNP\n",
      "100    2382   CD\n",
      "101   dtype   NN\n",
      "102  object   NN\n",
      "\n",
      "[103 rows x 2 columns]\n"
     ]
    },
    {
     "name": "stderr",
     "output_type": "stream",
     "text": [
      "[nltk_data] Downloading package punkt to\n",
      "[nltk_data]     C:\\Users\\konar\\AppData\\Roaming\\nltk_data...\n",
      "[nltk_data]   Package punkt is already up-to-date!\n",
      "[nltk_data] Downloading package averaged_perceptron_tagger to\n",
      "[nltk_data]     C:\\Users\\konar\\AppData\\Roaming\\nltk_data...\n",
      "[nltk_data]   Package averaged_perceptron_tagger is already up-to-\n",
      "[nltk_data]       date!\n"
     ]
    },
    {
     "data": {
      "text/plain": [
       "<AxesSubplot:title={'center':'Top 20 Part-of-speech tagging for comments'}>"
      ]
     },
     "execution_count": 48,
     "metadata": {},
     "output_type": "execute_result"
    },
    {
     "data": {
      "image/png": "[encoded data removed]",
      "text/plain": [
       "<Figure size 720x576 with 1 Axes>"
      ]
     },
     "metadata": {
      "needs_background": "light"
     },
     "output_type": "display_data"
    }
   ],
   "source": [
    "from textblob import TextBlob\n",
    "import nltk\n",
    "nltk.download('punkt')\n",
    "nltk.download('averaged_perceptron_tagger')\n",
    "\n",
    "blob = TextBlob(str(books['Desc']))\n",
    "pos_books = pd.DataFrame(blob.tags, columns = ['word' , 'pos'])\n",
    "print(pos_books)\n",
    "pos_books = pos_books.pos.value_counts()[:20]\n",
    "pos_books.plot(kind = 'bar', figsize=(10, 8), title = \"Top 20 Part-of-speech tagging for comments\")"
   ]
  },
  {
   "cell_type": "code",
   "execution_count": 49,
   "id": "b5e097ac",
   "metadata": {},
   "outputs": [
    {
     "data": {
      "text/plain": [
       "<AxesSubplot:title={'center':'Bigram disribution for the top 20 words in the book description'}, xlabel='bigram'>"
      ]
     },
     "execution_count": 49,
     "metadata": {},
     "output_type": "execute_result"
    },
    {
     "data": {
      "image/png": "[encoded data removed]",
      "text/plain": [
       "<Figure size 1080x504 with 1 Axes>"
      ]
     },
     "metadata": {
      "needs_background": "light"
     },
     "output_type": "display_data"
    }
   ],
   "source": [
    "# Converting text descriptions into vectors using TF-IDF using Bigram\n",
    "tf = TfidfVectorizer(ngram_range=(2, 2), stop_words='english', lowercase = False)\n",
    "tfidf_matrix = tf.fit_transform(books['Desc'])\n",
    "total_words = tfidf_matrix.sum(axis=0) \n",
    "\n",
    "#Finding the word frequency\n",
    "freq = [(word, total_words[0, idx]) for word, idx in tf.vocabulary_.items()]\n",
    "freq =sorted(freq, key = lambda x: x[1], reverse=True)\n",
    "\n",
    "#converting into dataframe \n",
    "bigram = pd.DataFrame(freq)\n",
    "bigram.rename(columns = {0:'bigram', 1: 'count'}, inplace = True) \n",
    "\n",
    "#Taking first 20 records\n",
    "bigram = bigram.head(20)\n",
    "\n",
    "#Plotting the bigram distribution\n",
    "bigram.plot(x ='bigram', y='count', kind = 'bar', title = \"Bigram disribution for the top 20 words in the book description\", figsize = (15,7), )"
   ]
  },
  {
   "cell_type": "code",
   "execution_count": 50,
   "id": "dc7e6a10",
   "metadata": {},
   "outputs": [
    {
     "data": {
      "text/plain": [
       "<AxesSubplot:title={'center':'Bigram disribution for the top 20 words in the book description'}, xlabel='trigram'>"
      ]
     },
     "execution_count": 50,
     "metadata": {},
     "output_type": "execute_result"
    },
    {
     "data": {
      "image/png": "[encoded data removed]",
      "text/plain": [
       "<Figure size 1080x504 with 1 Axes>"
      ]
     },
     "metadata": {
      "needs_background": "light"
     },
     "output_type": "display_data"
    }
   ],
   "source": [
    "#Converting text descriptions into vectors using TF-IDF using Trigram\n",
    "tf = TfidfVectorizer(ngram_range=(3, 3), stop_words='english', lowercase = False)\n",
    "tfidf_matrix = tf.fit_transform(books['Desc'])\n",
    "total_words = tfidf_matrix.sum(axis=0) \n",
    "\n",
    "#Finding the word frequency\n",
    "freq = [(word, total_words[0, idx]) for word, idx in tf.vocabulary_.items()]\n",
    "freq =sorted(freq, key = lambda x: x[1], reverse=True)\n",
    "\n",
    "#converting into dataframe \n",
    "trigram = pd.DataFrame(freq)\n",
    "trigram.rename(columns = {0:'trigram', 1: 'count'}, inplace = True) \n",
    "\n",
    "#Taking first 20 records\n",
    "trigram = trigram.head(20)\n",
    "\n",
    "#Plotting the trigramn distribution\n",
    "trigram.plot(x ='trigram', y='count', kind = 'bar', title = \"Bigram disribution for the top 20 words in the book description\", figsize = (15,7), )"
   ]
  },
  {
   "cell_type": "code",
   "execution_count": 51,
   "id": "e13e1fd2",
   "metadata": {},
   "outputs": [
    {
     "name": "stderr",
     "output_type": "stream",
     "text": [
      "[nltk_data] Downloading package stopwords to\n",
      "[nltk_data]     C:\\Users\\konar\\AppData\\Roaming\\nltk_data...\n",
      "[nltk_data]   Package stopwords is already up-to-date!\n"
     ]
    }
   ],
   "source": [
    "nltk.download('stopwords')\n",
    "\n",
    "# Function for removing NonAscii characters\n",
    "def _removeNonAscii(s):\n",
    "    return \"\".join(i for i in s if  ord(i)<128)\n",
    "\n",
    "# Function for converting into lower case\n",
    "def make_lower_case(text):\n",
    "    return text.lower()\n",
    "\n",
    "# Function for removing stop words\n",
    "def remove_stop_words(text):\n",
    "    text = text.split()\n",
    "    stops = set(stopwords.words(\"english\"))\n",
    "    text = [w for w in text if not w in stops]\n",
    "    text = \" \".join(text)\n",
    "    return text\n",
    "\n",
    "# Function for removing punctuation\n",
    "def remove_punctuation(text):\n",
    "    tokenizer = RegexpTokenizer(r'\\w+')\n",
    "    text = tokenizer.tokenize(text)\n",
    "    text = \" \".join(text)\n",
    "    return text\n",
    "\n",
    "#Function for removing the html tags\n",
    "def remove_html(text):\n",
    "    html_pattern = re.compile('<.*?>')\n",
    "    return html_pattern.sub(r'', text)\n",
    "\n",
    "# Applying all the functions in description and storing as a cleaned_desc\n",
    "books['cleaned_desc'] = books['Desc'].apply(_removeNonAscii)\n",
    "books['cleaned_desc'] = books.cleaned_desc.apply(func = make_lower_case)\n",
    "books['cleaned_desc'] = books.cleaned_desc.apply(func = remove_stop_words)\n",
    "books['cleaned_desc'] = books.cleaned_desc.apply(func=remove_punctuation)\n",
    "books['cleaned_desc'] = books.cleaned_desc.apply(func=remove_html)"
   ]
  },
  {
   "cell_type": "code",
   "execution_count": 52,
   "id": "94d310bd",
   "metadata": {},
   "outputs": [],
   "source": [
    "# Function for recommending books based on Book title. It takes book title and genre as an input.\n",
    "def recommendByTitle(title, genre):\n",
    "    \n",
    "    # Matching the genre with the dataset and reset the index\n",
    "    data = books.loc[books['genre'] == genre]  \n",
    "    data.reset_index(level = 0, inplace = True) \n",
    "  \n",
    "    # Convert the index into series\n",
    "    indices = pd.Series(data.index, index = data['title'])\n",
    "    \n",
    "    #Converting the book title into vectors and used bigram\n",
    "    tf = TfidfVectorizer(analyzer='word', ngram_range=(2, 2), min_df = 1, stop_words='english')\n",
    "    tfidf_matrix = tf.fit_transform(data['title'])\n",
    "    \n",
    "    # Calculating the similarity measures based on Cosine Similarity\n",
    "    sg = cosine_similarity(tfidf_matrix, tfidf_matrix)\n",
    "    \n",
    "    # Get the index corresponding to original_title\n",
    "       \n",
    "    idx = indices[title]\n",
    "    # Get the pairwsie similarity scores \n",
    "    sig = list(enumerate(sg[idx]))\n",
    "    \n",
    "    # Sort the books\n",
    "    sig = sorted(sig, key=lambda x: x[1], reverse=True)\n",
    "    \n",
    "    # Scores of the 5 most similar books \n",
    "    sig = sig[1:6]\n",
    "    \n",
    "    # Book indicies\n",
    "    movie_indices = [i[0] for i in sig]\n",
    "   \n",
    "    # Top 5 book recommendation\n",
    "    rec = data[['title', 'url']].iloc[movie_indices]\n",
    "       \n",
    "    # It reads the top 5 recommend book\n",
    "    \n",
    "    print(\"TOP 5 Recommended Books are... \\n\")\n",
    "    \n",
    "    index = 1\n",
    "    for i in movie_indices:\n",
    "        title = rec['title'][i]\n",
    "        print(index ,\" \", title)\n",
    "        index += 1"
   ]
  },
  {
   "cell_type": "code",
   "execution_count": 53,
   "id": "0dcb40b7",
   "metadata": {},
   "outputs": [
    {
     "name": "stdout",
     "output_type": "stream",
     "text": [
      "TOP 5 Recommended Books are... \n",
      "\n",
      "1   Harry Potter and the Goblet of Fire\n",
      "2   Harry Potter and the Sorcerer's Stone\n",
      "3   Harry Potter and the Chamber of Secrets\n",
      "4   Harry Potter and the Prisoner of Azkaban\n",
      "5   Harry Potter and the Deathly Hallows\n"
     ]
    }
   ],
   "source": [
    "recommendByTitle(\"Harry Potter and the Order of the Phoenix\", \"Non-Fiction\")"
   ]
  },
  {
   "cell_type": "code",
   "execution_count": 54,
   "id": "7c3f4d9d",
   "metadata": {},
   "outputs": [],
   "source": [
    "# Function for recommending books based on Book title. It takes book title and genre as an input.\n",
    "def recommendByDesc(title, genre):\n",
    "    \n",
    "    # Matching the genre with the dataset and reset the index\n",
    "    data = books.loc[books['genre'] == genre]  \n",
    "    data.reset_index(level = 0, inplace = True) \n",
    "  \n",
    "    # Convert the index into series\n",
    "    indices = pd.Series(data.index, index = data['title'])\n",
    "    \n",
    "    #Converting the book description into vectors and used bigram\n",
    "    tf = TfidfVectorizer(analyzer='word', ngram_range=(2, 2), min_df = 1, stop_words='english')\n",
    "    tfidf_matrix = tf.fit_transform(data['cleaned_desc'])\n",
    "    \n",
    "    # Calculating the similarity measures based on Cosine Similarity\n",
    "    sg = cosine_similarity(tfidf_matrix, tfidf_matrix)\n",
    "    \n",
    "    # Get the index corresponding to original_title\n",
    "       \n",
    "    idx = indices[title]\n",
    "    \n",
    "    # Get the pairwsie similarity scores \n",
    "    sig = list(enumerate(sg[idx]))\n",
    "    \n",
    "    # Sort the books\n",
    "    sig = sorted(sig, key=lambda x: x[1], reverse=True)\n",
    "    \n",
    "    # Scores of the 5 most similar books \n",
    "    sig = sig[1:6]\n",
    "    \n",
    "    # Book indicies\n",
    "    movie_indices = [i[0] for i in sig]\n",
    "   \n",
    "    # Top 5 book recommendation\n",
    "    rec = data[['title', 'url']].iloc[movie_indices]\n",
    "    \n",
    "    # It reads the top 5 recommend\n",
    "    \n",
    "    print(\"TOP 5 Recommended Books are... \\n\")\n",
    "    \n",
    "    index = 1\n",
    "    for i in movie_indices:\n",
    "        title = rec['title'][i]\n",
    "        print(index ,\" \", title)\n",
    "        index += 1"
   ]
  },
  {
   "cell_type": "code",
   "execution_count": 55,
   "id": "17a4aea8",
   "metadata": {},
   "outputs": [
    {
     "name": "stdout",
     "output_type": "stream",
     "text": [
      "TOP 5 Recommended Books are... \n",
      "\n",
      "1   Harry Potter and the Sorcerer's Stone\n",
      "2   Harry Potter and the Order of the Phoenix\n",
      "3   Harry Potter and the Chamber of Secrets\n",
      "4   Harry Potter and the Cursed Child: Parts One and Two\n",
      "5   Fantastic Beasts and Where to Find Them\n"
     ]
    }
   ],
   "source": [
    "recommendByDesc(\"Harry Potter and the Prisoner of Azkaban\", \"Non-Fiction\")"
   ]
  },
  {
   "cell_type": "code",
   "execution_count": 57,
   "id": "407de751",
   "metadata": {},
   "outputs": [],
   "source": [
    "pickle.dump(books, open('../server/models/books.pkl', 'wb'))\n",
    "pickle.dump(cosine_similarity, open('../server/models/cosine_similarity.pkl', 'wb'))"
   ]
  }
 ],
 "metadata": {
  "kernelspec": {
   "display_name": "Python 3 (ipykernel)",
   "language": "python",
   "name": "python3"
  },
  "language_info": {
   "codemirror_mode": {
    "name": "ipython",
    "version": 3
   },
   "file_extension": ".py",
   "mimetype": "text/x-python",
   "name": "python",
   "nbconvert_exporter": "python",
   "pygments_lexer": "ipython3",
   "version": "3.10.2"
  }
 },
 "nbformat": 4,
 "nbformat_minor": 5
}
