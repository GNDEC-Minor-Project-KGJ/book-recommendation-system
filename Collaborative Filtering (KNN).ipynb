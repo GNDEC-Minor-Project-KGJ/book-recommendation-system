{
 "cells": [
  {
   "cell_type": "markdown",
   "id": "d76b6cb1",
   "metadata": {},
   "source": [
    "# Book Recommendation System (Using KNN Algorithm)\n",
    "\n",
    "\n",
    "## Minor Project\n",
    "\n",
    "\n",
    "BACHELOR OF TECHNOLOGY\\\n",
    "Computer Science and Engineering\\\n",
    "2019-2023\n",
    "\n",
    "## Team\n",
    "1. Konark Lohat\n",
    "2. Gautam Jain\n",
    "3. Jaskamal Singh\n",
    "\n",
    "Dataset - http://www2.informatik.uni-freiburg.de/~cziegler/BX/"
   ]
  },
  {
   "cell_type": "markdown",
   "id": "f41bec04",
   "metadata": {},
   "source": [
    "# Importing necessary packages"
   ]
  },
  {
   "cell_type": "code",
   "execution_count": null,
   "id": "ef5f4902",
   "metadata": {},
   "outputs": [],
   "source": [
    "import pandas as pd\n",
    "import numpy as np\n",
    "import matplotlib.pyplot as plt"
   ]
  },
  {
   "cell_type": "markdown",
   "id": "ddbb1cbb",
   "metadata": {},
   "source": [
    "# Reading dataset with their respective (and required) features "
   ]
  },
  {
   "cell_type": "code",
   "execution_count": null,
   "id": "23d6dd3c",
   "metadata": {},
   "outputs": [],
   "source": [
    "# Books dataset\n",
    "books = pd.read_csv('./data/BX-Books.csv', sep = ';', error_bad_lines = False, encoding = 'latin-1')\n",
    "books.columns = ['ISBN', 'bookTitle', 'bookAuthor', 'yearOfPublication', 'publisher', 'imageUrlS', 'imageUrlM', 'imageUrlL']\n",
    "\n",
    "# Users dataset\n",
    "users = pd.read_csv('./data/BX-Users.csv', sep = ';', error_bad_lines = False, encoding='latin-1')\n",
    "users.columns = ['userID', 'Location', 'Age']\n",
    "\n",
    "# Ratings dataset\n",
    "ratings = pd.read_csv('./data/BX-Book-Ratings.csv', sep = ';', error_bad_lines = False, encoding='latin-1')\n",
    "ratings.columns = ['userID', 'ISBN', 'bookRating']"
   ]
  },
  {
   "cell_type": "code",
   "execution_count": null,
   "id": "e3e86054",
   "metadata": {},
   "outputs": [],
   "source": [
    "# Books dataset\n",
    "print(\"\\033[1mBooks Dataset\\033[0m\")\n",
    "print(\"Rows - \", books.shape[0])\n",
    "print(\"Cols - \", books.shape[1])\n",
    "print(\"Cols are - \", list(books.columns))\n",
    "\n",
    "# Users dataset\n",
    "print(\"\\n\\033[1mUsers Dataset\\033[0m\")\n",
    "print(\"Rows - \", users.shape[0])\n",
    "print(\"Cols - \", users.shape[1])\n",
    "print(\"Cols are - \", list(users.columns))\n",
    "\n",
    "# Ratings dataset\n",
    "print(\"\\n\\033[1mRatings Dataset\\033[0m\")\n",
    "print(\"Rows - \", ratings.shape[0])\n",
    "print(\"Cols - \", ratings.shape[1])\n",
    "print(\"Cols are - \", list(ratings.columns))"
   ]
  },
  {
   "cell_type": "markdown",
   "id": "29a005d5",
   "metadata": {},
   "source": [
    "# Rating Distribution"
   ]
  },
  {
   "cell_type": "code",
   "execution_count": null,
   "id": "a296af5f",
   "metadata": {},
   "outputs": [],
   "source": [
    "plt.rc('font', size = 15)\n",
    "ratings.bookRating.value_counts(sort = True).plot(kind = 'bar')\n",
    "plt.title(\"Rating Distribution (Bar Graph)\\n\")\n",
    "plt.xlabel('Rating')\n",
    "plt.ylabel('Count')\n",
    "plt.savefig('./figures/rating-distribution.png', bbox_inches = 'tight')\n",
    "plt.show()"
   ]
  },
  {
   "cell_type": "markdown",
   "id": "5c502725",
   "metadata": {},
   "source": [
    "# User's Age Distribution"
   ]
  },
  {
   "cell_type": "code",
   "execution_count": null,
   "id": "f51e14cf",
   "metadata": {},
   "outputs": [],
   "source": [
    "users.Age.hist(bins = [0, 10, 20, 30, 40, 50, 100])\n",
    "plt.title('Age Distribution\\n')\n",
    "plt.xlabel('Age')\n",
    "plt.ylabel('Count')\n",
    "plt.savefig('./figures/user-age-distribution.png', bbox_inches = 'tight')\n",
    "plt.show()"
   ]
  },
  {
   "cell_type": "markdown",
   "id": "76d2a9e3",
   "metadata": {},
   "source": [
    "# To ensure statistical significance, users with less than 200 ratings, and books with less than 100 ratings won't be used my the model."
   ]
  },
  {
   "cell_type": "code",
   "execution_count": null,
   "id": "cb82f579",
   "metadata": {},
   "outputs": [],
   "source": [
    "# User's ratings\n",
    "userRatingCount = ratings['userID'].value_counts()\n",
    "ratings = ratings[ratings['userID'].isin(userRatingCount[userRatingCount >= 200].index)]\n",
    "\n",
    "# Book's ratings\n",
    "bookRatingCount = ratings['bookRating'].value_counts()\n",
    "print(bookRatingCount[bookRatingCount >= 100].index)\n",
    "ratings = ratings[ratings['bookRating'].isin(bookRatingCount[bookRatingCount >= 100].index)]"
   ]
  },
  {
   "cell_type": "code",
   "execution_count": null,
   "id": "f2d6d2d2",
   "metadata": {},
   "outputs": [],
   "source": [
    "# TESTING THE EXCLUSION\n",
    "plt.rc('font', size = 15)\n",
    "ratings.bookRating.value_counts(sort = True).plot(kind = 'bar')\n",
    "plt.title(\"Rating Distribution (Bar Graph)\\n\")\n",
    "plt.xlabel('Rating')\n",
    "plt.ylabel('Count')\n",
    "plt.savefig('./figures/rating-distribution.png', bbox_inches = 'tight')\n",
    "plt.show()"
   ]
  },
  {
   "cell_type": "markdown",
   "id": "79e8abbf",
   "metadata": {},
   "source": [
    "# Collaborative Filtering Using K-Nearest Neighbours (KNN)\n",
    "\n",
    "\n",
    "KNN is a machine learning algorithm used to find clusters of similar users based on common book ratings, and make predictions using the average rating of top-k nearest neighbours. For example, we first present ratings in a matrix with the matrix having one row for each item (book) and one column for each user."
   ]
  },
  {
   "cell_type": "code",
   "execution_count": null,
   "id": "439a2758",
   "metadata": {},
   "outputs": [],
   "source": [
    "# Combining the book and user dataset with ISBN as the primary key\n",
    "combine_book_rating = pd.merge(ratings, books, on='ISBN')\n",
    "columns = ['yearOfPublication', 'publisher', 'bookAuthor', 'imageUrlS', 'imageUrlM', 'imageUrlL'] # Dropped columns\n",
    "combine_book_rating = combine_book_rating.drop(columns, axis = 1)\n",
    "combine_book_rating.head()"
   ]
  },
  {
   "cell_type": "markdown",
   "id": "d0f9c504",
   "metadata": {},
   "source": [
    "#### Now we will group by books titles and create a new column for total rating count"
   ]
  },
  {
   "cell_type": "code",
   "execution_count": null,
   "id": "f8bfaacb",
   "metadata": {
    "scrolled": true
   },
   "outputs": [],
   "source": [
    "combine_book_rating = combine_book_rating.dropna(axis = 0, subset = ['bookTitle'])\n",
    "\n",
    "book_rating_count = (combine_book_rating.\n",
    "                     groupby(by = ['bookTitle'])\n",
    "                     ['bookRating']\n",
    "                     .count()\n",
    "                     .reset_index()\n",
    "                     .rename(columns = {'bookRating': 'totalRatingCount'})\n",
    "                     [['bookTitle', 'totalRatingCount']]\n",
    "                    )\n",
    "\n",
    "book_rating_count.head()"
   ]
  },
  {
   "cell_type": "markdown",
   "id": "02d5db5e",
   "metadata": {},
   "source": [
    "#### We combine the rating data with the total rating count data, this gives us exactly what we need to find out which books are popular and filter out lesser-known books."
   ]
  },
  {
   "cell_type": "code",
   "execution_count": null,
   "id": "09b4c12b",
   "metadata": {},
   "outputs": [],
   "source": [
    "rating_with_total_rating_count = combine_book_rating.merge(book_rating_count, left_on = 'bookTitle', right_on = 'bookTitle', how = 'left')\n",
    "rating_with_total_rating_count.head()"
   ]
  },
  {
   "cell_type": "code",
   "execution_count": null,
   "id": "70fc43dd",
   "metadata": {
    "scrolled": true
   },
   "outputs": [],
   "source": [
    "popularity_threshold = 50\n",
    "rating_popular_book = rating_with_total_rating_count.query('totalRatingCount >= @popularity_threshold')\n",
    "rating_popular_book.head()"
   ]
  },
  {
   "cell_type": "code",
   "execution_count": null,
   "id": "18415f55",
   "metadata": {},
   "outputs": [],
   "source": [
    "rating_popular_book.shape"
   ]
  },
  {
   "cell_type": "markdown",
   "id": "c1189fac",
   "metadata": {},
   "source": [
    "# Filter users of USA and Canada only"
   ]
  },
  {
   "cell_type": "code",
   "execution_count": null,
   "id": "e071b47c",
   "metadata": {},
   "outputs": [],
   "source": [
    "combined = rating_popular_book.merge(users, left_on = 'userID', right_on = 'userID', how = 'left')\n",
    "\n",
    "us_canada_user_rating = combined[combined['Location'].str.contains('usa|canada')]\n",
    "us_canada_user_rating = us_canada_user_rating.drop('Age', axis = 1)\n",
    "us_canada_user_rating.head()"
   ]
  },
  {
   "cell_type": "markdown",
   "id": "de5ab9fa",
   "metadata": {},
   "source": [
    "# Implementing KNN (Cosine Similarity)\n",
    "\n",
    "\n",
    "We convert our table to a 2D matrix, and fill the missing values with zeros (since we will calculate distances between rating vectors). We then transform the value (ratings) of the matrix dataframe into a scipy sparse matrix for more efficient calculations.\n",
    "\n",
    "\n",
    "Finding the Nearest Neighbours, we use unsupervised algorithms with sklearn.neighbours. The algorithm we use to compute the nearest neighbours is \"brute\", and we specify \"metric = cosine\" so that the algorithm will calculate the cosine similarity between rating vectors. Finally, we fit the model."
   ]
  },
  {
   "cell_type": "code",
   "execution_count": null,
   "id": "03a49b4d",
   "metadata": {},
   "outputs": [],
   "source": [
    "from scipy.sparse import csr_matrix \n",
    "us_canada_user_rating = us_canada_user_rating.drop_duplicates(['userID', 'bookTitle'])\n",
    "us_canada_user_rating_pivot = us_canada_user_rating.pivot(index = 'bookTitle', columns = 'userID', values = 'bookRating').fillna(0)\n",
    "us_canada_user_rating_matrix = csr_matrix(us_canada_user_rating_pivot.values)"
   ]
  },
  {
   "cell_type": "code",
   "execution_count": null,
   "id": "03ab18b0",
   "metadata": {},
   "outputs": [],
   "source": [
    "from sklearn.neighbors import NearestNeighbors\n",
    "\n",
    "model_knn = NearestNeighbors(metric = 'cosine', algorithm = 'brute')\n",
    "model_knn.fit(us_canada_user_rating_matrix)"
   ]
  },
  {
   "cell_type": "code",
   "execution_count": null,
   "id": "49eeb4f8",
   "metadata": {},
   "outputs": [],
   "source": [
    "query_index = np.random.choice(us_canada_user_rating_pivot.shape[0])\n",
    "distances, indices = model_knn.kneighbors(us_canada_user_rating_pivot.iloc[query_index, :].values.reshape(1, -1), n_neighbors = 6)"
   ]
  },
  {
   "cell_type": "code",
   "execution_count": null,
   "id": "d97ec165",
   "metadata": {},
   "outputs": [],
   "source": [
    "us_canada_user_rating_pivot.index[query_index]"
   ]
  },
  {
   "cell_type": "code",
   "execution_count": null,
   "id": "e9b3ef3b",
   "metadata": {},
   "outputs": [],
   "source": [
    "for i in range(0, len(distances.flatten())):\n",
    "    if i == 0:\n",
    "        print(\"Recommendations for {0}:\\n\".format(us_canada_user_rating_pivot.index[query_index]))\n",
    "    else:\n",
    "        print(\"{0}: {1}, with distance of {2}\".format(i, us_canada_user_rating_pivot.index[indices.flatten()[i]], distances.flatten()[i]))"
   ]
  },
  {
   "cell_type": "code",
   "execution_count": null,
   "id": "8334bcf5",
   "metadata": {},
   "outputs": [],
   "source": []
  }
 ],
 "metadata": {
  "kernelspec": {
   "display_name": "Python 3 (ipykernel)",
   "language": "python",
   "name": "python3"
  },
  "language_info": {
   "codemirror_mode": {
    "name": "ipython",
    "version": 3
   },
   "file_extension": ".py",
   "mimetype": "text/x-python",
   "name": "python",
   "nbconvert_exporter": "python",
   "pygments_lexer": "ipython3",
   "version": "3.10.2"
  }
 },
 "nbformat": 4,
 "nbformat_minor": 5
}
