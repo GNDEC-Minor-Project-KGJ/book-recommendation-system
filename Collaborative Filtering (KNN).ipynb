{
 "cells": [
  {
   "cell_type": "markdown",
   "id": "d76b6cb1",
   "metadata": {},
   "source": [
    "# Book Recommendation System (Using KNN Algorithm)\n",
    "\n",
    "\n",
    "## Minor Project\n",
    "\n",
    "\n",
    "BACHELOR OF TECHNOLOGY\\\n",
    "Computer Science and Engineering\\\n",
    "2019-2023\n",
    "\n",
    "## Team\n",
    "1. Konark Lohat\n",
    "2. Gautam Jain\n",
    "3. Jaskamal Singh\n",
    "\n",
    "Dataset - http://www2.informatik.uni-freiburg.de/~cziegler/BX/"
   ]
  },
  {
   "cell_type": "markdown",
   "id": "f41bec04",
   "metadata": {},
   "source": [
    "# Importing necessary packages"
   ]
  },
  {
   "cell_type": "code",
   "execution_count": 36,
   "id": "ef5f4902",
   "metadata": {},
   "outputs": [],
   "source": [
    "import pandas as pd\n",
    "import numpy as np\n",
    "import matplotlib.pyplot as plt"
   ]
  },
  {
   "cell_type": "markdown",
   "id": "ddbb1cbb",
   "metadata": {},
   "source": [
    "# Reading dataset with their respective (and required) features "
   ]
  },
  {
   "cell_type": "code",
   "execution_count": 37,
   "id": "23d6dd3c",
   "metadata": {},
   "outputs": [
    {
     "name": "stderr",
     "output_type": "stream",
     "text": [
      "C:\\Users\\konar\\AppData\\Local\\Temp\\ipykernel_38960\\1153141283.py:2: FutureWarning: The error_bad_lines argument has been deprecated and will be removed in a future version. Use on_bad_lines in the future.\n",
      "\n",
      "\n",
      "  books = pd.read_csv('./data/BX-Books.csv', sep = ';', error_bad_lines = False, encoding = 'latin-1')\n",
      "b'Skipping line 6452: expected 8 fields, saw 9\\nSkipping line 43667: expected 8 fields, saw 10\\nSkipping line 51751: expected 8 fields, saw 9\\n'\n",
      "b'Skipping line 92038: expected 8 fields, saw 9\\nSkipping line 104319: expected 8 fields, saw 9\\nSkipping line 121768: expected 8 fields, saw 9\\n'\n",
      "b'Skipping line 144058: expected 8 fields, saw 9\\nSkipping line 150789: expected 8 fields, saw 9\\nSkipping line 157128: expected 8 fields, saw 9\\nSkipping line 180189: expected 8 fields, saw 9\\nSkipping line 185738: expected 8 fields, saw 9\\n'\n",
      "b'Skipping line 209388: expected 8 fields, saw 9\\nSkipping line 220626: expected 8 fields, saw 9\\nSkipping line 227933: expected 8 fields, saw 11\\nSkipping line 228957: expected 8 fields, saw 10\\nSkipping line 245933: expected 8 fields, saw 9\\nSkipping line 251296: expected 8 fields, saw 9\\nSkipping line 259941: expected 8 fields, saw 9\\nSkipping line 261529: expected 8 fields, saw 9\\n'\n",
      "C:\\Users\\konar\\AppData\\Local\\Temp\\ipykernel_38960\\1153141283.py:2: DtypeWarning: Columns (3) have mixed types. Specify dtype option on import or set low_memory=False.\n",
      "  books = pd.read_csv('./data/BX-Books.csv', sep = ';', error_bad_lines = False, encoding = 'latin-1')\n",
      "C:\\Users\\konar\\AppData\\Local\\Temp\\ipykernel_38960\\1153141283.py:6: FutureWarning: The error_bad_lines argument has been deprecated and will be removed in a future version. Use on_bad_lines in the future.\n",
      "\n",
      "\n",
      "  users = pd.read_csv('./data/BX-Users.csv', sep = ';', error_bad_lines = False, encoding='latin-1')\n",
      "C:\\Users\\konar\\AppData\\Local\\Temp\\ipykernel_38960\\1153141283.py:10: FutureWarning: The error_bad_lines argument has been deprecated and will be removed in a future version. Use on_bad_lines in the future.\n",
      "\n",
      "\n",
      "  ratings = pd.read_csv('./data/BX-Book-Ratings.csv', sep = ';', error_bad_lines = False, encoding='latin-1')\n"
     ]
    }
   ],
   "source": [
    "# Books dataset\n",
    "books = pd.read_csv('./data/BX-Books.csv', sep = ';', error_bad_lines = False, encoding = 'latin-1')\n",
    "books.columns = ['ISBN', 'bookTitle', 'bookAuthor', 'yearOfPublication', 'publisher', 'imageUrlS', 'imageUrlM', 'imageUrlL']\n",
    "\n",
    "# Users dataset\n",
    "users = pd.read_csv('./data/BX-Users.csv', sep = ';', error_bad_lines = False, encoding='latin-1')\n",
    "users.columns = ['userID', 'Location', 'Age']\n",
    "\n",
    "# Ratings dataset\n",
    "ratings = pd.read_csv('./data/BX-Book-Ratings.csv', sep = ';', error_bad_lines = False, encoding='latin-1')\n",
    "ratings.columns = ['userID', 'ISBN', 'bookRating']"
   ]
  },
  {
   "cell_type": "code",
   "execution_count": 38,
   "id": "e3e86054",
   "metadata": {},
   "outputs": [
    {
     "name": "stdout",
     "output_type": "stream",
     "text": [
      "\u001b[1mBooks Dataset\u001b[0m\n",
      "Rows -  271360\n",
      "Cols -  8\n",
      "Cols are -  ['ISBN', 'bookTitle', 'bookAuthor', 'yearOfPublication', 'publisher', 'imageUrlS', 'imageUrlM', 'imageUrlL']\n",
      "\n",
      "\u001b[1mUsers Dataset\u001b[0m\n",
      "Rows -  278858\n",
      "Cols -  3\n",
      "Cols are -  ['userID', 'Location', 'Age']\n",
      "\n",
      "\u001b[1mRatings Dataset\u001b[0m\n",
      "Rows -  1149780\n",
      "Cols -  3\n",
      "Cols are -  ['userID', 'ISBN', 'bookRating']\n"
     ]
    }
   ],
   "source": [
    "# Books dataset\n",
    "print(\"\\033[1mBooks Dataset\\033[0m\")\n",
    "print(\"Rows - \", books.shape[0])\n",
    "print(\"Cols - \", books.shape[1])\n",
    "print(\"Cols are - \", list(books.columns))\n",
    "\n",
    "# Users dataset\n",
    "print(\"\\n\\033[1mUsers Dataset\\033[0m\")\n",
    "print(\"Rows - \", users.shape[0])\n",
    "print(\"Cols - \", users.shape[1])\n",
    "print(\"Cols are - \", list(users.columns))\n",
    "\n",
    "# Ratings dataset\n",
    "print(\"\\n\\033[1mRatings Dataset\\033[0m\")\n",
    "print(\"Rows - \", ratings.shape[0])\n",
    "print(\"Cols - \", ratings.shape[1])\n",
    "print(\"Cols are - \", list(ratings.columns))"
   ]
  },
  {
   "cell_type": "markdown",
   "id": "29a005d5",
   "metadata": {},
   "source": [
    "# Rating Distribution"
   ]
  },
  {
   "cell_type": "code",
   "execution_count": 39,
   "id": "a296af5f",
   "metadata": {},
   "outputs": [
    {
     "data": {
      "image/png": "[encoded data removed]",
      "text/plain": [
       "<Figure size 432x288 with 1 Axes>"
      ]
     },
     "metadata": {
      "needs_background": "light"
     },
     "output_type": "display_data"
    }
   ],
   "source": [
    "plt.rc('font', size = 15)\n",
    "ratings.bookRating.value_counts(sort = False).plot(kind = 'bar')\n",
    "plt.title(\"Rating Distribution (Bar Graph)\\n\")\n",
    "plt.xlabel('Rating')\n",
    "plt.ylabel('Count')\n",
    "plt.savefig('./figures/rating-distribution.png', bbox_inches = 'tight')\n",
    "plt.show()"
   ]
  },
  {
   "cell_type": "markdown",
   "id": "5c502725",
   "metadata": {},
   "source": [
    "# User's Age Distribution"
   ]
  },
  {
   "cell_type": "code",
   "execution_count": 40,
   "id": "f51e14cf",
   "metadata": {},
   "outputs": [
    {
     "data": {
      "image/png": "[encoded data removed]",
      "text/plain": [
       "<Figure size 432x288 with 1 Axes>"
      ]
     },
     "metadata": {
      "needs_background": "light"
     },
     "output_type": "display_data"
    }
   ],
   "source": [
    "users.Age.hist(bins = [0, 10, 20, 30, 40, 50, 100])\n",
    "plt.title('Age Distribution\\n')\n",
    "plt.xlabel('Age')\n",
    "plt.ylabel('Count')\n",
    "plt.savefig('./figures/user-age-distribution.png', bbox_inches = 'tight')\n",
    "plt.show()"
   ]
  },
  {
   "cell_type": "markdown",
   "id": "76d2a9e3",
   "metadata": {},
   "source": [
    "# To ensure statistical significance, users with less than 200 ratings, and books with less than 100 ratings won't be used my the model."
   ]
  },
  {
   "cell_type": "code",
   "execution_count": 41,
   "id": "cb82f579",
   "metadata": {},
   "outputs": [],
   "source": [
    "# User's ratings\n",
    "userRatingCount = ratings['userID'].value_counts()\n",
    "ratings = ratings[ratings['userID'].isin(userRatingCount[userRatingCount >= 200].index)]\n",
    "\n",
    "# Book's ratings\n",
    "bookRatingCount = ratings['bookRating'].value_counts()\n",
    "ratings = ratings[ratings['bookRating'].isin(bookRatingCount[bookRatingCount >= 100].index)]"
   ]
  },
  {
   "cell_type": "code",
   "execution_count": 42,
   "id": "f2d6d2d2",
   "metadata": {},
   "outputs": [
    {
     "data": {
      "image/png": "[encoded data removed]",
      "text/plain": [
       "<Figure size 432x288 with 1 Axes>"
      ]
     },
     "metadata": {
      "needs_background": "light"
     },
     "output_type": "display_data"
    }
   ],
   "source": [
    "# TESTING THE EXCLUSION\n",
    "plt.rc('font', size = 15)\n",
    "ratings.bookRating.value_counts(sort = False).plot(kind = 'bar')\n",
    "plt.title(\"Rating Distribution (Bar Graph)\\n\")\n",
    "plt.xlabel('Rating')\n",
    "plt.ylabel('Count')\n",
    "plt.savefig('./figures/rating-distribution.png', bbox_inches = 'tight')\n",
    "plt.show()"
   ]
  }
 ],
 "metadata": {
  "kernelspec": {
   "display_name": "Python 3 (ipykernel)",
   "language": "python",
   "name": "python3"
  },
  "language_info": {
   "codemirror_mode": {
    "name": "ipython",
    "version": 3
   },
   "file_extension": ".py",
   "mimetype": "text/x-python",
   "name": "python",
   "nbconvert_exporter": "python",
   "pygments_lexer": "ipython3",
   "version": "3.10.2"
  }
 },
 "nbformat": 4,
 "nbformat_minor": 5
}
